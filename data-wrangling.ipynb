{
 "cells": [
  {
   "cell_type": "code",
   "execution_count": 1,
   "metadata": {
    "collapsed": true
   },
   "outputs": [],
   "source": [
    "%matplotlib inline\n",
    "import matplotlib.pylab as plt\n",
    "plt.rcParams['figure.figsize'] = (10,6)\n",
    "plt.rcParams['font.size'] = 18\n",
    "plt.style.use('fivethirtyeight')"
   ]
  },
  {
   "cell_type": "code",
   "execution_count": 2,
   "metadata": {
    "collapsed": true
   },
   "outputs": [],
   "source": [
    "from pyspark.sql.functions import udf\n",
    "import pyspark.sql.functions as fct\n",
    "from pyspark.sql import Row\n",
    "from geopy.distance import distance as geo_dist\n",
    "from pyspark.sql.types import DoubleType\n",
    "import pandas as pd "
   ]
  },
  {
   "cell_type": "code",
   "execution_count": 3,
   "metadata": {},
   "outputs": [
    {
     "data": {
      "text/html": [
       "\n",
       "        <div>\n",
       "            <p><b>SparkContext</b></p>\n",
       "\n",
       "            <p><a href=\"http://10.90.38.21:4047\">Spark UI</a></p>\n",
       "\n",
       "            <dl>\n",
       "              <dt>Version</dt>\n",
       "                <dd><code>v2.2.0.2.6.4.0-91</code></dd>\n",
       "              <dt>Master</dt>\n",
       "                <dd><code>yarn</code></dd>\n",
       "              <dt>AppName</dt>\n",
       "                <dd><code>final_proj-granoux</code></dd>\n",
       "            </dl>\n",
       "        </div>\n",
       "        "
      ],
      "text/plain": [
       "<SparkContext master=yarn appName=final_proj-granoux>"
      ]
     },
     "execution_count": 3,
     "metadata": {},
     "output_type": "execute_result"
    }
   ],
   "source": [
    "import getpass\n",
    "import pyspark\n",
    "from pyspark.sql import SparkSession\n",
    "\n",
    "conf = pyspark.conf.SparkConf()\n",
    "conf.setMaster('yarn')\n",
    "conf.setAppName('final_proj-{0}'.format(getpass.getuser()))\n",
    "conf.set('spark.executor.memory', '4g')\n",
    "conf.set('spark.executor.instances', '15')\n",
    "conf.set('spark.port.maxRetries', '100')\n",
    "sc = pyspark.SparkContext.getOrCreate(conf)\n",
    "conf = sc.getConf()\n",
    "sc"
   ]
  },
  {
   "cell_type": "code",
   "execution_count": 4,
   "metadata": {
    "collapsed": true
   },
   "outputs": [],
   "source": [
    "spark = SparkSession(sc)"
   ]
  },
  {
   "cell_type": "code",
   "execution_count": 5,
   "metadata": {
    "collapsed": true
   },
   "outputs": [],
   "source": [
    "df = spark.read.csv('/datasets/project/istdaten/*/*/*', sep=';', header=True)"
   ]
  },
  {
   "cell_type": "code",
   "execution_count": 6,
   "metadata": {
    "collapsed": true
   },
   "outputs": [],
   "source": [
    "columns = 'TripDate string, TripId string, OperatorId string, OperatorAbbrv string, OperatorName string, ProductId string, LineId string, LineType string, UmlaufId string, TransportType string, AdditionalTrip boolean, FailedTrip boolean, BPUIC string, StopName string, ArrivalTimeScheduled string, ArrivalTimeActual string, ArrivalTimeActualStatus string,     DepartureTimeScheduled string, DepartureTimeActual string, DepartureTimeActualStatus string, SkipStation boolean'\n",
    "columns = list(map(lambda x: x.split()[0],columns.split(',')))"
   ]
  },
  {
   "cell_type": "code",
   "execution_count": 7,
   "metadata": {},
   "outputs": [
    {
     "name": "stdout",
     "output_type": "stream",
     "text": [
      "BETRIEBSTAG TripDate\n",
      "FAHRT_BEZEICHNER TripId\n",
      "BETREIBER_ID OperatorId\n",
      "BETREIBER_ABK OperatorAbbrv\n",
      "BETREIBER_NAME OperatorName\n",
      "PRODUKT_ID ProductId\n",
      "LINIEN_ID LineId\n",
      "LINIEN_TEXT LineType\n",
      "UMLAUF_ID UmlaufId\n",
      "VERKEHRSMITTEL_TEXT TransportType\n",
      "ZUSATZFAHRT_TF AdditionalTrip\n",
      "FAELLT_AUS_TF FailedTrip\n",
      "BPUIC BPUIC\n",
      "HALTESTELLEN_NAME StopName\n",
      "ANKUNFTSZEIT ArrivalTimeScheduled\n",
      "AN_PROGNOSE ArrivalTimeActual\n",
      "AN_PROGNOSE_STATUS ArrivalTimeActualStatus\n",
      "ABFAHRTSZEIT DepartureTimeScheduled\n",
      "AB_PROGNOSE DepartureTimeActual\n",
      "AB_PROGNOSE_STATUS DepartureTimeActualStatus\n",
      "DURCHFAHRT_TF SkipStation\n"
     ]
    }
   ],
   "source": [
    "for old, new in zip(df.columns, columns):\n",
    "    print(old, new)\n",
    "    df = df.withColumnRenamed(old, new)"
   ]
  },
  {
   "cell_type": "code",
   "execution_count": 8,
   "metadata": {},
   "outputs": [
    {
     "data": {
      "text/plain": [
       "Row(TripDate='13.09.2017', TripId='80:06____:17010:000', OperatorId='80:06____', OperatorAbbrv='DB', OperatorName='DB Regio AG', ProductId='Zug', LineId='17010', LineType='RE', UmlaufId=None, TransportType='RE', AdditionalTrip='false', FailedTrip='false', BPUIC='8500090', StopName='Basel Bad Bf', ArrivalTimeScheduled=None, ArrivalTimeActual=None, ArrivalTimeActualStatus='PROGNOSE', DepartureTimeScheduled='13.09.2017 05:45', DepartureTimeActual='13.09.2017 05:45:00', DepartureTimeActualStatus='PROGNOSE', SkipStation='false')"
      ]
     },
     "execution_count": 8,
     "metadata": {},
     "output_type": "execute_result"
    }
   ],
   "source": [
    "df.head()"
   ]
  },
  {
   "cell_type": "code",
   "execution_count": 9,
   "metadata": {},
   "outputs": [
    {
     "data": {
      "text/plain": [
       "196232995"
      ]
     },
     "execution_count": 9,
     "metadata": {},
     "output_type": "execute_result"
    }
   ],
   "source": [
    "df.count()"
   ]
  },
  {
   "cell_type": "code",
   "execution_count": 10,
   "metadata": {},
   "outputs": [
    {
     "data": {
      "text/plain": [
       "10366"
      ]
     },
     "execution_count": 10,
     "metadata": {},
     "output_type": "execute_result"
    }
   ],
   "source": [
    "df.select(\"StopName\").distinct().count()"
   ]
  },
  {
   "cell_type": "markdown",
   "metadata": {
    "collapsed": true
   },
   "source": [
    "### Metadata"
   ]
  },
  {
   "cell_type": "markdown",
   "metadata": {},
   "source": [
    "We first start by read metadata in order to select stop station within 10 km from Zürich "
   ]
  },
  {
   "cell_type": "code",
   "execution_count": 11,
   "metadata": {
    "collapsed": true
   },
   "outputs": [],
   "source": [
    "df_meta = spark.read.csv('/datasets/project/metadata')"
   ]
  },
  {
   "cell_type": "code",
   "execution_count": 12,
   "metadata": {},
   "outputs": [],
   "source": [
    "#Here we can see that we have some duplicated stop name \n",
    "#df_meta.filter(df_meta._c0.contains('Zürich')).head(30)"
   ]
  },
  {
   "cell_type": "code",
   "execution_count": 15,
   "metadata": {},
   "outputs": [
    {
     "name": "stdout",
     "output_type": "stream",
     "text": [
      "root\n",
      " |-- _c0: string (nullable = true)\n",
      "\n"
     ]
    }
   ],
   "source": [
    "df_meta.printSchema()"
   ]
  },
  {
   "cell_type": "code",
   "execution_count": 16,
   "metadata": {},
   "outputs": [],
   "source": [
    "df_meta = df_meta.select(fct.split(df_meta['_c0'], '  ')[1].alias('Long'), \n",
    "                         fct.split(fct.split(df_meta['_c0'], '  ')[2], ' ')[0].alias('Lat'), fct.split(df_meta['_c0'], '% ')[1].alias('StopName_Meta') )"
   ]
  },
  {
   "cell_type": "code",
   "execution_count": 17,
   "metadata": {},
   "outputs": [
    {
     "name": "stdout",
     "output_type": "stream",
     "text": [
      "+---------+---------+-------------------+\n",
      "|     Long|      Lat|      StopName_Meta|\n",
      "+---------+---------+-------------------+\n",
      "|26.074412|44.446770|          Bucuresti|\n",
      "| 1.811446|50.901549|             Calais|\n",
      "| 1.075329|51.284212|         Canterbury|\n",
      "|-3.543547|50.729172|             Exeter|\n",
      "| 9.733756|46.922368|            Fideris|\n",
      "| 8.571251|50.051219|Frankfurt Flughafen|\n",
      "|18.643803|54.355520|             Gdansk|\n",
      "| 7.389462|47.191804|           Grenchen|\n",
      "|29.019602|40.996348|           Istanbul|\n",
      "| 9.873959|48.577852|  Amstetten (Württ)|\n",
      "| 4.786044|43.921937|            Avignon|\n",
      "| 2.140369|41.378914|          Barcelona|\n",
      "| 7.589551|47.547405|              Basel|\n",
      "| 7.395229|46.937482|       Bern Bümpliz|\n",
      "|-1.899480|52.483627|         Birmingham|\n",
      "| 6.838953|46.949588|          Boudry TN|\n",
      "|17.106466|48.158910|         Bratislava|\n",
      "| 4.335694|50.835376|          Bruxelles|\n",
      "|-2.979650|53.404289|          Liverpool|\n",
      "| 8.500049|47.114619|         Lothenbach|\n",
      "+---------+---------+-------------------+\n",
      "only showing top 20 rows\n",
      "\n"
     ]
    }
   ],
   "source": [
    "df_meta.show()"
   ]
  },
  {
   "cell_type": "code",
   "execution_count": 18,
   "metadata": {},
   "outputs": [],
   "source": [
    "#Again we can see that we have many occurance of Zurich with different coordinate\n",
    "#df_meta.filter(df_meta.StopName_Meta == 'Zürich').show()"
   ]
  },
  {
   "cell_type": "code",
   "execution_count": 19,
   "metadata": {},
   "outputs": [],
   "source": [
    "df_meta = df_meta.withColumn(\"Long\", df_meta[\"Long\"].cast(DoubleType()))\n",
    "df_meta = df_meta.withColumn(\"Lat\", df_meta[\"Lat\"].cast(DoubleType()))"
   ]
  },
  {
   "cell_type": "code",
   "execution_count": 20,
   "metadata": {
    "collapsed": true
   },
   "outputs": [],
   "source": [
    "#Coordinate of the main station of Zürich\n",
    "Lat_zu = 47.377941\n",
    "Long_ZU = 8.540141\n",
    "def dist_to_ZU(lat, long): \n",
    "    res = str(geo_dist((lat, long), (Lat_zu, Long_ZU)))\n",
    "    res = round(float(res.split()[0]),1)\n",
    "    return res"
   ]
  },
  {
   "cell_type": "code",
   "execution_count": 21,
   "metadata": {},
   "outputs": [],
   "source": [
    "udf_dist_to_ZU = udf(dist_to_ZU, DoubleType()) "
   ]
  },
  {
   "cell_type": "code",
   "execution_count": 22,
   "metadata": {
    "collapsed": true
   },
   "outputs": [],
   "source": [
    "df_meta = df_meta.withColumn(\"Dist in km\", udf_dist_to_ZU('Lat','Long'))"
   ]
  },
  {
   "cell_type": "code",
   "execution_count": 23,
   "metadata": {},
   "outputs": [
    {
     "name": "stdout",
     "output_type": "stream",
     "text": [
      "+---------+---------+-------------------+----------+\n",
      "|     Long|      Lat|      StopName_Meta|Dist in km|\n",
      "+---------+---------+-------------------+----------+\n",
      "|26.074412| 44.44677|          Bucuresti|    1395.6|\n",
      "| 1.811446|50.901549|             Calais|     627.8|\n",
      "| 1.075329|51.284212|         Canterbury|     694.5|\n",
      "|-3.543547|50.729172|             Exeter|     957.2|\n",
      "| 9.733756|46.922368|            Fideris|     103.7|\n",
      "| 8.571251|50.051219|Frankfurt Flughafen|     297.3|\n",
      "|18.643803| 54.35552|             Gdansk|    1050.8|\n",
      "| 7.389462|47.191804|           Grenchen|      89.5|\n",
      "|29.019602|40.996348|           Istanbul|    1777.5|\n",
      "| 9.873959|48.577852|  Amstetten (Württ)|     166.5|\n",
      "| 4.786044|43.921937|            Avignon|     482.8|\n",
      "| 2.140369|41.378914|          Barcelona|     838.7|\n",
      "| 7.589551|47.547405|              Basel|      74.1|\n",
      "| 7.395229|46.937482|       Bern Bümpliz|      99.7|\n",
      "| -1.89948|52.483627|         Birmingham|     938.9|\n",
      "| 6.838953|46.949588|          Boudry TN|     137.5|\n",
      "|17.106466| 48.15891|         Bratislava|     647.6|\n",
      "| 4.335694|50.835376|          Bruxelles|     491.9|\n",
      "| -2.97965|53.404289|          Liverpool|    1056.3|\n",
      "| 8.500049|47.114619|         Lothenbach|      29.4|\n",
      "+---------+---------+-------------------+----------+\n",
      "only showing top 20 rows\n",
      "\n"
     ]
    }
   ],
   "source": [
    "df_meta.show()"
   ]
  },
  {
   "cell_type": "code",
   "execution_count": 24,
   "metadata": {},
   "outputs": [
    {
     "name": "stdout",
     "output_type": "stream",
     "text": [
      "+--------+---------+--------------------+----------+\n",
      "|    Long|      Lat|       StopName_Meta|Dist in km|\n",
      "+--------+---------+--------------------+----------+\n",
      "|8.521961|47.351679|Zimmerberg-Basist...|       3.2|\n",
      "|8.434713|47.390882|              Urdorf|       8.1|\n",
      "|8.437543|47.357432|      Birmensdorf ZH|       8.1|\n",
      "|8.468175|47.325896| Bonstetten-Wettswil|       7.9|\n",
      "| 8.43033|47.380971|   Urdorf Weihermatt|       8.3|\n",
      "|8.463472|47.368305|             Waldegg|       5.9|\n",
      "|8.513918|47.370293|              Zürich|       2.2|\n",
      "|8.438705|47.338209|            Aesch ZH|       8.8|\n",
      "|8.467781|47.315088|          Bonstetten|       8.9|\n",
      "|8.437173|47.353936|      Birmensdorf ZH|       8.2|\n",
      "|8.540192|47.378177|           Zürich HB|       0.0|\n",
      "| 8.48894|47.391481|   Zürich Altstetten|       4.1|\n",
      "|8.548466|47.366611|  Zürich Stadelhofen|       1.4|\n",
      "|8.561372|47.350124|Zürich Tiefenbrunnen|       3.5|\n",
      "|8.544115|47.411529|     Zürich Oerlikon|       3.7|\n",
      "|8.544636|47.418747|      Zürich Seebach|       4.5|\n",
      "|8.508565|47.420913|    Zürich Affoltern|       5.3|\n",
      "|8.533588| 47.34744|  Zürich Wollishofen|       3.4|\n",
      "|8.530805|47.364099|         Zürich Enge|       1.7|\n",
      "|8.523462|47.371472|     Zürich Wiedikon|       1.5|\n",
      "+--------+---------+--------------------+----------+\n",
      "only showing top 20 rows\n",
      "\n"
     ]
    }
   ],
   "source": [
    "df_meta = df_meta.filter(df_meta['Dist in km'] < 10)\n",
    "df_meta.show()"
   ]
  },
  {
   "cell_type": "code",
   "execution_count": 25,
   "metadata": {
    "collapsed": true
   },
   "outputs": [],
   "source": [
    "StopName = df_meta.select(df_meta.StopName_Meta).distinct()"
   ]
  },
  {
   "cell_type": "code",
   "execution_count": 26,
   "metadata": {},
   "outputs": [],
   "source": [
    "Df_Zurich = df.join(StopName, StopName.StopName_Meta == df.StopName, how='inner')"
   ]
  },
  {
   "cell_type": "code",
   "execution_count": 28,
   "metadata": {},
   "outputs": [
    {
     "name": "stdout",
     "output_type": "stream",
     "text": [
      "root\n",
      " |-- TripDate: string (nullable = true)\n",
      " |-- TripId: string (nullable = true)\n",
      " |-- OperatorId: string (nullable = true)\n",
      " |-- OperatorAbbrv: string (nullable = true)\n",
      " |-- OperatorName: string (nullable = true)\n",
      " |-- ProductId: string (nullable = true)\n",
      " |-- LineId: string (nullable = true)\n",
      " |-- LineType: string (nullable = true)\n",
      " |-- UmlaufId: string (nullable = true)\n",
      " |-- TransportType: string (nullable = true)\n",
      " |-- AdditionalTrip: string (nullable = true)\n",
      " |-- FailedTrip: string (nullable = true)\n",
      " |-- BPUIC: string (nullable = true)\n",
      " |-- StopName: string (nullable = true)\n",
      " |-- ArrivalTimeScheduled: string (nullable = true)\n",
      " |-- ArrivalTimeActual: string (nullable = true)\n",
      " |-- ArrivalTimeActualStatus: string (nullable = true)\n",
      " |-- DepartureTimeScheduled: string (nullable = true)\n",
      " |-- DepartureTimeActual: string (nullable = true)\n",
      " |-- DepartureTimeActualStatus: string (nullable = true)\n",
      " |-- SkipStation: string (nullable = true)\n",
      " |-- StopName_Meta: string (nullable = true)\n",
      "\n"
     ]
    }
   ],
   "source": [
    "Df_Zurich.printSchema()"
   ]
  },
  {
   "cell_type": "code",
   "execution_count": 32,
   "metadata": {
    "scrolled": true
   },
   "outputs": [],
   "source": [
    "Df_Zurich = Df_Zurich.drop('StopName_Meta')"
   ]
  },
  {
   "cell_type": "code",
   "execution_count": 34,
   "metadata": {},
   "outputs": [
    {
     "name": "stdout",
     "output_type": "stream",
     "text": [
      "+----------+--------------+----------+-------------+--------------------+---------+------+--------+--------+-------------+--------------+----------+-------+----------------+--------------------+-------------------+-----------------------+----------------------+-------------------+-------------------------+-----------+\n",
      "|  TripDate|        TripId|OperatorId|OperatorAbbrv|        OperatorName|ProductId|LineId|LineType|UmlaufId|TransportType|AdditionalTrip|FailedTrip|  BPUIC|        StopName|ArrivalTimeScheduled|  ArrivalTimeActual|ArrivalTimeActualStatus|DepartureTimeScheduled|DepartureTimeActual|DepartureTimeActualStatus|SkipStation|\n",
      "+----------+--------------+----------+-------------+--------------------+---------+------+--------+--------+-------------+--------------+----------+-------+----------------+--------------------+-------------------+-----------------------+----------------------+-------------------+-------------------------+-----------+\n",
      "|13.09.2017|  85:11:10:002|     85:11|          SBB|Schweizerische Bu...|      Zug|    10|      EC|    null|           EC|         false|     false|8503000|       Zürich HB|    13.09.2017 21:51|13.09.2017 21:53:57|             GESCHAETZT|                  null|               null|                 PROGNOSE|      false|\n",
      "|13.09.2017|  85:11:11:004|     85:11|          SBB|Schweizerische Bu...|      Zug|    11|      EC|    null|           EC|         false|     false|8503000|       Zürich HB|                null|               null|               PROGNOSE|      13.09.2017 06:09|13.09.2017 06:10:33|               GESCHAETZT|      false|\n",
      "|13.09.2017|  85:11:12:002|     85:11|          SBB|Schweizerische Bu...|      Zug|    12|      EC|    null|           EC|         false|     false|8503000|       Zürich HB|    13.09.2017 10:51|13.09.2017 10:50:51|             GESCHAETZT|                  null|               null|                 PROGNOSE|      false|\n",
      "|13.09.2017|85:11:1251:001|     85:11|          SBB|Schweizerische Bu...|      Zug|  1251|     ICE|    null|          ICE|         false|      true|8503000|       Zürich HB|    13.09.2017 07:00|               null|               PROGNOSE|                  null|               null|                 PROGNOSE|      false|\n",
      "|13.09.2017|85:11:1255:001|     85:11|          SBB|Schweizerische Bu...|      Zug|  1255|     ICE|    null|          ICE|         false|     false|8503000|       Zürich HB|    13.09.2017 08:26|13.09.2017 08:30:04|             GESCHAETZT|      13.09.2017 08:37|13.09.2017 08:39:22|               GESCHAETZT|      false|\n",
      "|13.09.2017|85:11:1256:002|     85:11|          SBB|Schweizerische Bu...|      Zug|  1256|     ICE|    null|          ICE|         false|     false|8503000|       Zürich HB|    13.09.2017 17:53|13.09.2017 17:55:07|             GESCHAETZT|                  null|               null|                 PROGNOSE|      false|\n",
      "|13.09.2017|85:11:1258:001|     85:11|          SBB|Schweizerische Bu...|      Zug|  1258|     ICE|    null|          ICE|         false|      true|8503000|       Zürich HB|    13.09.2017 21:23|               null|               PROGNOSE|      13.09.2017 21:34|               null|                 PROGNOSE|      false|\n",
      "|13.09.2017|85:11:1260:001|     85:11|          SBB|Schweizerische Bu...|      Zug|  1260|     ICE|    null|          ICE|         false|      true|8503000|       Zürich HB|                null|               null|               PROGNOSE|      13.09.2017 21:00|               null|                 PROGNOSE|      false|\n",
      "|13.09.2017|  85:11:13:006|     85:11|          SBB|Schweizerische Bu...|      Zug|    13|      EC|    null|           EC|         false|     false|8503000|       Zürich HB|                null|               null|               PROGNOSE|      13.09.2017 07:09|13.09.2017 07:10:39|               GESCHAETZT|      false|\n",
      "|13.09.2017|  85:11:14:003|     85:11|          SBB|Schweizerische Bu...|      Zug|    14|      EC|    null|           EC|         false|     false|8503000|       Zürich HB|    13.09.2017 12:51|13.09.2017 12:54:07|             GESCHAETZT|                  null|               null|                 PROGNOSE|      false|\n",
      "|13.09.2017|85:11:1408:002|     85:11|          SBB|Schweizerische Bu...|      Zug|  1408|      IC|    null|           IC|         false|     false|8503000|       Zürich HB|                null|               null|               PROGNOSE|      13.09.2017 06:49|13.09.2017 06:50:09|               GESCHAETZT|      false|\n",
      "|13.09.2017|85:11:1410:001|     85:11|          SBB|Schweizerische Bu...|      Zug|  1410|      IC|    null|           IC|         false|     false|8503000|       Zürich HB|                null|               null|               PROGNOSE|      13.09.2017 07:49|13.09.2017 07:50:00|               GESCHAETZT|      false|\n",
      "|13.09.2017|85:11:1411:001|     85:11|          SBB|Schweizerische Bu...|      Zug|  1411|      IC|    null|           IC|         false|     false|8503000|       Zürich HB|    13.09.2017 08:10|13.09.2017 08:09:19|             GESCHAETZT|                  null|               null|                 PROGNOSE|      false|\n",
      "|13.09.2017|85:11:1429:001|     85:11|          SBB|Schweizerische Bu...|      Zug|  1429|      IC|    null|           IC|         false|     false|8503000|       Zürich HB|    13.09.2017 17:10|13.09.2017 17:07:50|             GESCHAETZT|                  null|               null|                 PROGNOSE|      false|\n",
      "|13.09.2017|85:11:1431:001|     85:11|          SBB|Schweizerische Bu...|      Zug|  1431|      IC|    null|           IC|         false|     false|8503000|       Zürich HB|    13.09.2017 18:10|13.09.2017 18:11:07|             GESCHAETZT|                  null|               null|                 PROGNOSE|      false|\n",
      "|13.09.2017|  85:11:15:006|     85:11|          SBB|Schweizerische Bu...|      Zug|    15|      EC|    null|           EC|         false|     false|8503000|       Zürich HB|                null|               null|               PROGNOSE|      13.09.2017 09:09|13.09.2017 09:10:45|               GESCHAETZT|      false|\n",
      "|13.09.2017|85:11:1507:002|     85:11|          SBB|Schweizerische Bu...|      Zug|  1507|     ICN|    null|          ICN|         false|     false|8503000|       Zürich HB|    13.09.2017 06:30|13.09.2017 06:30:27|             GESCHAETZT|      13.09.2017 06:39|13.09.2017 06:39:55|               GESCHAETZT|      false|\n",
      "|13.09.2017|85:11:1507:002|     85:11|          SBB|Schweizerische Bu...|      Zug|  1507|     ICN|    null|          ICN|         false|     false|8503016|Zürich Flughafen|    13.09.2017 06:49|13.09.2017 06:49:47|             GESCHAETZT|      13.09.2017 06:51|13.09.2017 06:52:10|               GESCHAETZT|      false|\n",
      "|13.09.2017|85:11:1508:002|     85:11|          SBB|Schweizerische Bu...|      Zug|  1508|     ICN|    null|          ICN|         false|     false|8503000|       Zürich HB|                null|               null|               PROGNOSE|      13.09.2017 06:30|13.09.2017 06:30:42|               GESCHAETZT|      false|\n",
      "|13.09.2017|85:11:1509:002|     85:11|          SBB|Schweizerische Bu...|      Zug|  1509|     ICN|    null|          ICN|         false|     false|8503000|       Zürich HB|    13.09.2017 07:30|13.09.2017 07:31:42|             GESCHAETZT|      13.09.2017 07:39|13.09.2017 07:39:29|               GESCHAETZT|      false|\n",
      "+----------+--------------+----------+-------------+--------------------+---------+------+--------+--------+-------------+--------------+----------+-------+----------------+--------------------+-------------------+-----------------------+----------------------+-------------------+-------------------------+-----------+\n",
      "only showing top 20 rows\n",
      "\n"
     ]
    }
   ],
   "source": [
    "Df_Zurich.show()"
   ]
  },
  {
   "cell_type": "code",
   "execution_count": null,
   "metadata": {
    "collapsed": true
   },
   "outputs": [],
   "source": []
  }
 ],
 "metadata": {
  "kernelspec": {
   "display_name": "Python 3",
   "language": "python",
   "name": "python3"
  },
  "language_info": {
   "codemirror_mode": {
    "name": "ipython",
    "version": 3
   },
   "file_extension": ".py",
   "mimetype": "text/x-python",
   "name": "python",
   "nbconvert_exporter": "python",
   "pygments_lexer": "ipython3",
   "version": "3.6.3"
  }
 },
 "nbformat": 4,
 "nbformat_minor": 2
}
