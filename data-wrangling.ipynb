{
 "cells": [
  {
   "cell_type": "code",
   "execution_count": 1,
   "metadata": {
    "collapsed": true
   },
   "outputs": [],
   "source": [
    "%matplotlib inline\n",
    "import matplotlib.pylab as plt\n",
    "plt.rcParams['figure.figsize'] = (10,6)\n",
    "plt.rcParams['font.size'] = 18\n",
    "plt.style.use('fivethirtyeight')"
   ]
  },
  {
   "cell_type": "code",
   "execution_count": 42,
   "metadata": {
    "collapsed": true
   },
   "outputs": [],
   "source": [
    "from pyspark.sql.functions import udf\n",
    "import pyspark.sql.functions as fct\n",
    "from pyspark.sql import Row\n",
    "from geopy.distance import distance as geo_dist\n"
   ]
  },
  {
   "cell_type": "code",
   "execution_count": 3,
   "metadata": {
    "collapsed": true
   },
   "outputs": [],
   "source": [
    "import pandas as pd "
   ]
  },
  {
   "cell_type": "code",
   "execution_count": 4,
   "metadata": {},
   "outputs": [
    {
     "data": {
      "text/html": [
       "\n",
       "        <div>\n",
       "            <p><b>SparkContext</b></p>\n",
       "\n",
       "            <p><a href=\"http://10.90.38.21:4057\">Spark UI</a></p>\n",
       "\n",
       "            <dl>\n",
       "              <dt>Version</dt>\n",
       "                <dd><code>v2.2.0.2.6.4.0-91</code></dd>\n",
       "              <dt>Master</dt>\n",
       "                <dd><code>yarn</code></dd>\n",
       "              <dt>AppName</dt>\n",
       "                <dd><code>final_proj-granoux</code></dd>\n",
       "            </dl>\n",
       "        </div>\n",
       "        "
      ],
      "text/plain": [
       "<SparkContext master=yarn appName=final_proj-granoux>"
      ]
     },
     "execution_count": 4,
     "metadata": {},
     "output_type": "execute_result"
    }
   ],
   "source": [
    "import getpass\n",
    "import pyspark\n",
    "from pyspark.sql import SparkSession\n",
    "\n",
    "conf = pyspark.conf.SparkConf()\n",
    "conf.setMaster('yarn')\n",
    "conf.setAppName('final_proj-{0}'.format(getpass.getuser()))\n",
    "conf.set('spark.executor.memory', '4g')\n",
    "conf.set('spark.executor.instances', '15')\n",
    "conf.set('spark.port.maxRetries', '100')\n",
    "sc = pyspark.SparkContext.getOrCreate(conf)\n",
    "conf = sc.getConf()\n",
    "sc"
   ]
  },
  {
   "cell_type": "code",
   "execution_count": 5,
   "metadata": {
    "collapsed": true
   },
   "outputs": [],
   "source": [
    "spark = SparkSession(sc)"
   ]
  },
  {
   "cell_type": "code",
   "execution_count": 6,
   "metadata": {
    "collapsed": true
   },
   "outputs": [],
   "source": [
    "df = spark.read.csv('/datasets/project/istdaten/*/*/*', sep=';', header=True)"
   ]
  },
  {
   "cell_type": "code",
   "execution_count": 7,
   "metadata": {
    "collapsed": true
   },
   "outputs": [],
   "source": [
    "columns = 'TripDate string, TripId string, OperatorId string, OperatorAbbrv string, OperatorName string, ProductId string, LineId string, LineType string, UmlaufId string, TransportType string, AdditionalTrip boolean, FailedTrip boolean, BPUIC string, StopName string, ArrivalTimeScheduled string, ArrivalTimeActual string, ArrivalTimeActualStatus string,     DepartureTimeScheduled string, DepartureTimeActual string, DepartureTimeActualStatus string, SkipStation boolean'\n",
    "columns = list(map(lambda x: x.split()[0],columns.split(',')))"
   ]
  },
  {
   "cell_type": "code",
   "execution_count": 8,
   "metadata": {},
   "outputs": [
    {
     "name": "stdout",
     "output_type": "stream",
     "text": [
      "BETRIEBSTAG TripDate\n",
      "FAHRT_BEZEICHNER TripId\n",
      "BETREIBER_ID OperatorId\n",
      "BETREIBER_ABK OperatorAbbrv\n",
      "BETREIBER_NAME OperatorName\n",
      "PRODUKT_ID ProductId\n",
      "LINIEN_ID LineId\n",
      "LINIEN_TEXT LineType\n",
      "UMLAUF_ID UmlaufId\n",
      "VERKEHRSMITTEL_TEXT TransportType\n",
      "ZUSATZFAHRT_TF AdditionalTrip\n",
      "FAELLT_AUS_TF FailedTrip\n",
      "BPUIC BPUIC\n",
      "HALTESTELLEN_NAME StopName\n",
      "ANKUNFTSZEIT ArrivalTimeScheduled\n",
      "AN_PROGNOSE ArrivalTimeActual\n",
      "AN_PROGNOSE_STATUS ArrivalTimeActualStatus\n",
      "ABFAHRTSZEIT DepartureTimeScheduled\n",
      "AB_PROGNOSE DepartureTimeActual\n",
      "AB_PROGNOSE_STATUS DepartureTimeActualStatus\n",
      "DURCHFAHRT_TF SkipStation\n"
     ]
    }
   ],
   "source": [
    "for old, new in zip(df.columns, columns):\n",
    "    print(old, new)\n",
    "    df = df.withColumnRenamed(old, new)"
   ]
  },
  {
   "cell_type": "code",
   "execution_count": 9,
   "metadata": {},
   "outputs": [
    {
     "data": {
      "text/plain": [
       "Row(TripDate='13.09.2017', TripId='80:06____:17010:000', OperatorId='80:06____', OperatorAbbrv='DB', OperatorName='DB Regio AG', ProductId='Zug', LineId='17010', LineType='RE', UmlaufId=None, TransportType='RE', AdditionalTrip='false', FailedTrip='false', BPUIC='8500090', StopName='Basel Bad Bf', ArrivalTimeScheduled=None, ArrivalTimeActual=None, ArrivalTimeActualStatus='PROGNOSE', DepartureTimeScheduled='13.09.2017 05:45', DepartureTimeActual='13.09.2017 05:45:00', DepartureTimeActualStatus='PROGNOSE', SkipStation='false')"
      ]
     },
     "execution_count": 9,
     "metadata": {},
     "output_type": "execute_result"
    }
   ],
   "source": [
    "df.head()"
   ]
  },
  {
   "cell_type": "code",
   "execution_count": 10,
   "metadata": {},
   "outputs": [
    {
     "data": {
      "text/plain": [
       "196232995"
      ]
     },
     "execution_count": 10,
     "metadata": {},
     "output_type": "execute_result"
    }
   ],
   "source": [
    "df.count()"
   ]
  },
  {
   "cell_type": "code",
   "execution_count": 11,
   "metadata": {},
   "outputs": [
    {
     "data": {
      "text/plain": [
       "10366"
      ]
     },
     "execution_count": 11,
     "metadata": {},
     "output_type": "execute_result"
    }
   ],
   "source": [
    "df.select(\"StopName\").distinct().count()"
   ]
  },
  {
   "cell_type": "code",
   "execution_count": 145,
   "metadata": {
    "collapsed": true
   },
   "outputs": [],
   "source": [
    "from pyspark.sql.types import DoubleType\n",
    "from pyspark.sql.functions import udf"
   ]
  },
  {
   "cell_type": "code",
   "execution_count": 179,
   "metadata": {
    "collapsed": true
   },
   "outputs": [],
   "source": [
    "df_meta = spark.read.csv('/datasets/project/metadata')"
   ]
  },
  {
   "cell_type": "code",
   "execution_count": 180,
   "metadata": {},
   "outputs": [
    {
     "data": {
      "text/plain": [
       "pyspark.sql.dataframe.DataFrame"
      ]
     },
     "execution_count": 180,
     "metadata": {},
     "output_type": "execute_result"
    }
   ],
   "source": [
    "type(df_meta)"
   ]
  },
  {
   "cell_type": "code",
   "execution_count": 181,
   "metadata": {
    "collapsed": true
   },
   "outputs": [],
   "source": [
    "Lat_zu = 47.377941\n",
    "Long_ZU = 8.540141\n",
    "def dist_to_ZU(lat, long): \n",
    "    res = str(geo_dist((lat, long), (Lat_zu, Long_ZU)))\n",
    "    res = round(float(res.split()[0]),1)\n",
    "    return res"
   ]
  },
  {
   "cell_type": "code",
   "execution_count": 182,
   "metadata": {},
   "outputs": [],
   "source": [
    "df_meta = df_meta.select(fct.split(df_meta['_c0'], '  ')[1].alias('Long'), \n",
    "                         fct.split(fct.split(df_meta['_c0'], '  ')[2], ' ')[0].alias('Lat'), fct.split(df_meta['_c0'], '% ')[1].alias('StopName') )"
   ]
  },
  {
   "cell_type": "code",
   "execution_count": 183,
   "metadata": {},
   "outputs": [
    {
     "name": "stdout",
     "output_type": "stream",
     "text": [
      "+---------+---------+-------------------+\n",
      "|     Long|      Lat|           StopName|\n",
      "+---------+---------+-------------------+\n",
      "|26.074412|44.446770|          Bucuresti|\n",
      "| 1.811446|50.901549|             Calais|\n",
      "| 1.075329|51.284212|         Canterbury|\n",
      "|-3.543547|50.729172|             Exeter|\n",
      "| 9.733756|46.922368|            Fideris|\n",
      "| 8.571251|50.051219|Frankfurt Flughafen|\n",
      "|18.643803|54.355520|             Gdansk|\n",
      "| 7.389462|47.191804|           Grenchen|\n",
      "|29.019602|40.996348|           Istanbul|\n",
      "| 9.873959|48.577852|  Amstetten (Württ)|\n",
      "| 4.786044|43.921937|            Avignon|\n",
      "| 2.140369|41.378914|          Barcelona|\n",
      "| 7.589551|47.547405|              Basel|\n",
      "| 7.395229|46.937482|       Bern Bümpliz|\n",
      "|-1.899480|52.483627|         Birmingham|\n",
      "| 6.838953|46.949588|          Boudry TN|\n",
      "|17.106466|48.158910|         Bratislava|\n",
      "| 4.335694|50.835376|          Bruxelles|\n",
      "|-2.979650|53.404289|          Liverpool|\n",
      "| 8.500049|47.114619|         Lothenbach|\n",
      "+---------+---------+-------------------+\n",
      "only showing top 20 rows\n",
      "\n"
     ]
    }
   ],
   "source": [
    "df_meta.show()"
   ]
  },
  {
   "cell_type": "code",
   "execution_count": 184,
   "metadata": {},
   "outputs": [],
   "source": [
    "udf_dist_to_ZU = udf(dist_to_ZU, DoubleType()) "
   ]
  },
  {
   "cell_type": "code",
   "execution_count": 185,
   "metadata": {
    "collapsed": true
   },
   "outputs": [],
   "source": [
    "df_meta = df_meta.withColumn(\"Long\", df_meta[\"Long\"].cast(DoubleType()))\n",
    "df_meta = df_meta.withColumn(\"Lat\", df_meta[\"Lat\"].cast(DoubleType()))"
   ]
  },
  {
   "cell_type": "code",
   "execution_count": 186,
   "metadata": {},
   "outputs": [],
   "source": [
    "df_meta = df_meta.withColumn(\"Dist in km\", udf_dist_to_ZU('Lat','Long'))"
   ]
  },
  {
   "cell_type": "code",
   "execution_count": 206,
   "metadata": {},
   "outputs": [],
   "source": [
    "df_meta = df_meta.filter(df_meta['Dist in km'] < 10)"
   ]
  },
  {
   "cell_type": "code",
   "execution_count": 208,
   "metadata": {},
   "outputs": [],
   "source": [
    "StopName = df_meta.select(df_meta.StopName).distinct()"
   ]
  },
  {
   "cell_type": "code",
   "execution_count": 209,
   "metadata": {
    "collapsed": true
   },
   "outputs": [],
   "source": [
    "Df_Zurich = StopName.join(df, on=['StopName'], how='outer')"
   ]
  },
  {
   "cell_type": "code",
   "execution_count": 210,
   "metadata": {},
   "outputs": [
    {
     "name": "stdout",
     "output_type": "stream",
     "text": [
      "+--------+----------+--------------+----------+-------------+--------------+---------+------+--------+--------+-------------+--------------+----------+-------+--------------------+-------------------+-----------------------+----------------------+-------------------+-------------------------+-----------+\n",
      "|StopName|  TripDate|        TripId|OperatorId|OperatorAbbrv|  OperatorName|ProductId|LineId|LineType|UmlaufId|TransportType|AdditionalTrip|FailedTrip|  BPUIC|ArrivalTimeScheduled|  ArrivalTimeActual|ArrivalTimeActualStatus|DepartureTimeScheduled|DepartureTimeActual|DepartureTimeActualStatus|SkipStation|\n",
      "+--------+----------+--------------+----------+-------------+--------------+---------+------+--------+--------+-------------+--------------+----------+-------+--------------------+-------------------+-----------------------+----------------------+-------------------+-------------------------+-----------+\n",
      "|   Bever|04.10.2017|85:72:1110:000|     85:72|          RhB|Rhätische Bahn|      Zug|  1110|       R|    null|            R|         false|     false|8509250|    04.10.2017 05:13|04.10.2017 05:13:07|             GESCHAETZT|      04.10.2017 05:13|04.10.2017 05:13:55|               GESCHAETZT|      false|\n",
      "|   Bever|04.10.2017|85:72:1114:000|     85:72|          RhB|Rhätische Bahn|      Zug|  1114|       R|    null|            R|         false|     false|8509250|    04.10.2017 05:52|04.10.2017 05:52:42|             GESCHAETZT|      04.10.2017 05:52|04.10.2017 05:54:00|               GESCHAETZT|      false|\n",
      "|   Bever|04.10.2017|85:72:1117:000|     85:72|          RhB|Rhätische Bahn|      Zug|  1117|      IR|    null|           IR|         false|     false|8509250|    04.10.2017 08:40|04.10.2017 08:43:31|             GESCHAETZT|      04.10.2017 08:40|04.10.2017 08:45:14|               GESCHAETZT|      false|\n",
      "|   Bever|04.10.2017|85:72:1157:000|     85:72|          RhB|Rhätische Bahn|      Zug|  1157|      IR|    null|           IR|         false|     false|8509250|    04.10.2017 18:39|04.10.2017 18:41:39|             GESCHAETZT|      04.10.2017 18:39|04.10.2017 18:43:31|               GESCHAETZT|      false|\n",
      "|   Bever|04.10.2017|85:72:1161:000|     85:72|          RhB|Rhätische Bahn|      Zug|  1161|      IR|    null|           IR|         false|     false|8509250|    04.10.2017 19:39|04.10.2017 19:41:34|             GESCHAETZT|      04.10.2017 19:39|04.10.2017 19:43:44|               GESCHAETZT|      false|\n",
      "|   Bever|04.10.2017|85:72:1165:000|     85:72|          RhB|Rhätische Bahn|      Zug|  1165|      IR|    null|           IR|         false|     false|8509250|    04.10.2017 20:39|04.10.2017 20:43:14|             GESCHAETZT|      04.10.2017 20:39|04.10.2017 20:44:49|               GESCHAETZT|      false|\n",
      "|   Bever|04.10.2017|85:72:1168:000|     85:72|          RhB|Rhätische Bahn|      Zug|  1168|      IR|    null|           IR|         false|     false|8509250|    04.10.2017 19:19|04.10.2017 19:19:43|             GESCHAETZT|      04.10.2017 19:20|04.10.2017 19:20:38|                 PROGNOSE|      false|\n",
      "|   Bever|04.10.2017|85:72:1169:000|     85:72|          RhB|Rhätische Bahn|      Zug|  1169|      IR|    null|           IR|         false|     false|8509250|    04.10.2017 21:40|04.10.2017 21:43:44|             GESCHAETZT|      04.10.2017 21:40|04.10.2017 21:45:27|               GESCHAETZT|      false|\n",
      "|   Bever|04.10.2017|85:72:1172:000|     85:72|          RhB|Rhätische Bahn|      Zug|  1172|       R|    null|            R|         false|     false|8509250|    04.10.2017 20:19|04.10.2017 20:21:05|             GESCHAETZT|      04.10.2017 20:20|04.10.2017 20:22:07|                 PROGNOSE|      false|\n",
      "|   Bever|04.10.2017|85:72:1173:000|     85:72|          RhB|Rhätische Bahn|      Zug|  1173|       R|    null|            R|         false|     false|8509250|    04.10.2017 22:43|04.10.2017 22:44:05|               PROGNOSE|      04.10.2017 22:43|04.10.2017 22:46:00|               GESCHAETZT|      false|\n",
      "|   Bever|04.10.2017|85:72:1314:000|     85:72|          RhB|Rhätische Bahn|      Zug|  1314|       R|    null|            R|         false|     false|8509250|    04.10.2017 06:11|04.10.2017 06:12:10|             GESCHAETZT|      04.10.2017 06:11|04.10.2017 06:13:16|               GESCHAETZT|      false|\n",
      "|   Bever|04.10.2017|85:72:1315:000|     85:72|          RhB|Rhätische Bahn|      Zug|  1315|       R|    null|            R|         false|     false|8509250|    04.10.2017 08:06|04.10.2017 08:06:27|             GESCHAETZT|      04.10.2017 08:06|04.10.2017 08:07:23|               GESCHAETZT|      false|\n",
      "|   Bever|04.10.2017|85:72:1322:000|     85:72|          RhB|Rhätische Bahn|      Zug|  1322|       R|    null|            R|         false|     false|8509250|    04.10.2017 07:32|04.10.2017 07:34:14|             GESCHAETZT|      04.10.2017 07:32|04.10.2017 07:35:06|               GESCHAETZT|      false|\n",
      "|   Bever|04.10.2017|85:72:1323:000|     85:72|          RhB|Rhätische Bahn|      Zug|  1323|      RE|    null|           RE|         false|     false|8509250|    04.10.2017 10:01|04.10.2017 10:05:13|             GESCHAETZT|      04.10.2017 10:01|04.10.2017 10:06:08|               GESCHAETZT|      false|\n",
      "|   Bever|04.10.2017|85:72:1326:000|     85:72|          RhB|Rhätische Bahn|      Zug|  1326|      RE|    null|           RE|         false|     false|8509250|    04.10.2017 09:00|04.10.2017 09:01:34|             GESCHAETZT|      04.10.2017 09:01|04.10.2017 09:02:47|               GESCHAETZT|      false|\n",
      "|   Bever|04.10.2017|85:72:1327:000|     85:72|          RhB|Rhätische Bahn|      Zug|  1327|      RE|    null|           RE|         false|     false|8509250|    04.10.2017 10:54|04.10.2017 10:56:28|             GESCHAETZT|      04.10.2017 10:54|04.10.2017 10:57:49|               GESCHAETZT|      false|\n",
      "|   Bever|04.10.2017|85:72:1334:000|     85:72|          RhB|Rhätische Bahn|      Zug|  1334|      RE|    null|           RE|         false|     false|8509250|    04.10.2017 11:00|04.10.2017 11:02:34|             GESCHAETZT|      04.10.2017 11:01|04.10.2017 11:03:38|               GESCHAETZT|      false|\n",
      "|   Bever|04.10.2017|85:72:1335:000|     85:72|          RhB|Rhätische Bahn|      Zug|  1335|      RE|    null|           RE|         false|     false|8509250|    04.10.2017 12:54|04.10.2017 12:54:12|             GESCHAETZT|      04.10.2017 12:54|04.10.2017 12:55:10|               GESCHAETZT|      false|\n",
      "|   Bever|04.10.2017|85:72:1342:000|     85:72|          RhB|Rhätische Bahn|      Zug|  1342|      RE|    null|           RE|         false|     false|8509250|    04.10.2017 13:00|04.10.2017 13:00:22|             GESCHAETZT|      04.10.2017 13:01|04.10.2017 13:01:47|               GESCHAETZT|      false|\n",
      "|   Bever|04.10.2017|85:72:1343:000|     85:72|          RhB|Rhätische Bahn|      Zug|  1343|      RE|    null|           RE|         false|     false|8509250|    04.10.2017 14:54|04.10.2017 14:54:52|             GESCHAETZT|      04.10.2017 14:54|04.10.2017 14:55:47|               GESCHAETZT|      false|\n",
      "+--------+----------+--------------+----------+-------------+--------------+---------+------+--------+--------+-------------+--------------+----------+-------+--------------------+-------------------+-----------------------+----------------------+-------------------+-------------------------+-----------+\n",
      "only showing top 20 rows\n",
      "\n"
     ]
    }
   ],
   "source": [
    "Df_Zurich.show()"
   ]
  }
 ],
 "metadata": {
  "kernelspec": {
   "display_name": "Python 3",
   "language": "python",
   "name": "python3"
  },
  "language_info": {
   "codemirror_mode": {
    "name": "ipython",
    "version": 3
   },
   "file_extension": ".py",
   "mimetype": "text/x-python",
   "name": "python",
   "nbconvert_exporter": "python",
   "pygments_lexer": "ipython3",
   "version": "3.6.3"
  }
 },
 "nbformat": 4,
 "nbformat_minor": 2
}
