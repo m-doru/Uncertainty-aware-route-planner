{
 "cells": [
  {
   "cell_type": "code",
   "execution_count": 1,
   "metadata": {
    "collapsed": true
   },
   "outputs": [],
   "source": [
    "%matplotlib inline\n",
    "import matplotlib.pylab as plt\n",
    "plt.rcParams['figure.figsize'] = (10,6)\n",
    "plt.rcParams['font.size'] = 18\n",
    "plt.style.use('fivethirtyeight')"
   ]
  },
  {
   "cell_type": "code",
   "execution_count": 2,
   "metadata": {
    "collapsed": true
   },
   "outputs": [],
   "source": [
    "from pyspark.sql.functions import udf\n",
    "import pyspark.sql.functions as fct\n",
    "\n",
    "from pyspark.sql import Row\n",
    "from geopy.distance import distance as geo_dist\n",
    "\n",
    "import pandas as pd \n",
    "\n",
    "from ipywidgets import interact, interactive, fixed, interact_manual, widgets\n",
    "import numpy as np\n",
    "from pyspark.sql.types import *\n",
    "from pyspark.sql.functions import when, col\n",
    "\n",
    "import requests\n",
    "import time"
   ]
  },
  {
   "cell_type": "code",
   "execution_count": 3,
   "metadata": {},
   "outputs": [
    {
     "data": {
      "text/html": [
       "\n",
       "        <div>\n",
       "            <p><b>SparkContext</b></p>\n",
       "\n",
       "            <p><a href=\"http://10.90.38.21:4046\">Spark UI</a></p>\n",
       "\n",
       "            <dl>\n",
       "              <dt>Version</dt>\n",
       "                <dd><code>v2.2.0.2.6.4.0-91</code></dd>\n",
       "              <dt>Master</dt>\n",
       "                <dd><code>yarn</code></dd>\n",
       "              <dt>AppName</dt>\n",
       "                <dd><code>final_proj-granoux</code></dd>\n",
       "            </dl>\n",
       "        </div>\n",
       "        "
      ],
      "text/plain": [
       "<SparkContext master=yarn appName=final_proj-granoux>"
      ]
     },
     "execution_count": 3,
     "metadata": {},
     "output_type": "execute_result"
    }
   ],
   "source": [
    "import getpass\n",
    "import pyspark\n",
    "from pyspark.sql import SparkSession\n",
    "\n",
    "conf = pyspark.conf.SparkConf()\n",
    "conf.setMaster('yarn')\n",
    "conf.setAppName('final_proj-{0}'.format(getpass.getuser()))\n",
    "conf.set('spark.executor.memory', '4g')\n",
    "conf.set('spark.executor.instances', '10')\n",
    "conf.set('spark.port.maxRetries', '100')\n",
    "sc = pyspark.SparkContext.getOrCreate(conf)\n",
    "conf = sc.getConf()\n",
    "sc"
   ]
  },
  {
   "cell_type": "code",
   "execution_count": 4,
   "metadata": {
    "collapsed": true
   },
   "outputs": [],
   "source": [
    "spark = SparkSession(sc)"
   ]
  },
  {
   "cell_type": "markdown",
   "metadata": {},
   "source": [
    "Load Data "
   ]
  },
  {
   "cell_type": "code",
   "execution_count": 5,
   "metadata": {
    "collapsed": true
   },
   "outputs": [],
   "source": [
    "df = spark.read.csv('/datasets/project/istdaten/*/*/*', sep=';', header=True)"
   ]
  },
  {
   "cell_type": "markdown",
   "metadata": {},
   "source": [
    "Rename columns: "
   ]
  },
  {
   "cell_type": "code",
   "execution_count": 6,
   "metadata": {
    "collapsed": true
   },
   "outputs": [],
   "source": [
    "columns = 'TripDate string, TripId string, OperatorId string, OperatorAbbrv string, OperatorName string, ProductId string, LineId string, LineType string, UmlaufId string, TransportType string, AdditionalTrip boolean, FailedTrip boolean, BPUIC string, StopName string, ArrivalTimeScheduled string, ArrivalTimeActual string, ArrivalTimeActualStatus string,     DepartureTimeScheduled string, DepartureTimeActual string, DepartureTimeActualStatus string, SkipStation boolean'\n",
    "columns = list(map(lambda x: x.split()[0],columns.split(',')))\n",
    "\n",
    "for old, new in zip(df.columns, columns):\n",
    "    #print(old, new)\n",
    "    df = df.withColumnRenamed(old, new)"
   ]
  },
  {
   "cell_type": "code",
   "execution_count": 7,
   "metadata": {},
   "outputs": [
    {
     "name": "stdout",
     "output_type": "stream",
     "text": [
      "root\n",
      " |-- TripDate: string (nullable = true)\n",
      " |-- TripId: string (nullable = true)\n",
      " |-- OperatorId: string (nullable = true)\n",
      " |-- OperatorAbbrv: string (nullable = true)\n",
      " |-- OperatorName: string (nullable = true)\n",
      " |-- ProductId: string (nullable = true)\n",
      " |-- LineId: string (nullable = true)\n",
      " |-- LineType: string (nullable = true)\n",
      " |-- UmlaufId: string (nullable = true)\n",
      " |-- TransportType: string (nullable = true)\n",
      " |-- AdditionalTrip: string (nullable = true)\n",
      " |-- FailedTrip: string (nullable = true)\n",
      " |-- BPUIC: string (nullable = true)\n",
      " |-- StopName: string (nullable = true)\n",
      " |-- ArrivalTimeScheduled: string (nullable = true)\n",
      " |-- ArrivalTimeActual: string (nullable = true)\n",
      " |-- ArrivalTimeActualStatus: string (nullable = true)\n",
      " |-- DepartureTimeScheduled: string (nullable = true)\n",
      " |-- DepartureTimeActual: string (nullable = true)\n",
      " |-- DepartureTimeActualStatus: string (nullable = true)\n",
      " |-- SkipStation: string (nullable = true)\n",
      "\n"
     ]
    }
   ],
   "source": [
    "df.printSchema()"
   ]
  },
  {
   "cell_type": "code",
   "execution_count": 8,
   "metadata": {
    "collapsed": true
   },
   "outputs": [],
   "source": [
    "df_tmp = df.select(fct.split(df.TripId, ':')[2].alias('Line_ID'),\n",
    "              fct.split(df.TripId, ':')[3].alias('Line_ID_spec'),\n",
    "              'LineType', 'ProductId','LineType', 'TripDate', \n",
    "                   'ArrivalTimeScheduled','DepartureTimeScheduled', 'StopName')"
   ]
  },
  {
   "cell_type": "markdown",
   "metadata": {
    "collapsed": true
   },
   "source": [
    "### Metadata"
   ]
  },
  {
   "cell_type": "markdown",
   "metadata": {},
   "source": [
    "We first start by read metadata in order to select stop station within 10 km from Zürich "
   ]
  },
  {
   "cell_type": "code",
   "execution_count": 9,
   "metadata": {
    "collapsed": true
   },
   "outputs": [],
   "source": [
    "df_meta = spark.read.csv('/datasets/project/metadata')"
   ]
  },
  {
   "cell_type": "code",
   "execution_count": 10,
   "metadata": {
    "collapsed": true
   },
   "outputs": [],
   "source": [
    "#Here we can see that we have some duplicated stop name \n",
    "#df_meta.filter(df_meta._c0.contains('Zürich')).head(30)"
   ]
  },
  {
   "cell_type": "code",
   "execution_count": 11,
   "metadata": {},
   "outputs": [
    {
     "name": "stdout",
     "output_type": "stream",
     "text": [
      "root\n",
      " |-- _c0: string (nullable = true)\n",
      "\n"
     ]
    }
   ],
   "source": [
    "df_meta.printSchema()"
   ]
  },
  {
   "cell_type": "code",
   "execution_count": 12,
   "metadata": {},
   "outputs": [
    {
     "data": {
      "text/plain": [
       "211"
      ]
     },
     "execution_count": 12,
     "metadata": {},
     "output_type": "execute_result"
    }
   ],
   "source": [
    "test = df_meta.filter(df_meta['_c0'].rlike(\"Lausanne\")).collect()\n",
    "len(test)"
   ]
  },
  {
   "cell_type": "code",
   "execution_count": 13,
   "metadata": {
    "collapsed": true
   },
   "outputs": [],
   "source": [
    "df_meta = df_meta.select(fct.split(df_meta['_c0'], '  ')[1].alias('Long'), \n",
    "                         fct.split(fct.split(df_meta['_c0'], '  ')[2], ' ')[0].alias('Lat'), \n",
    "                         fct.split(df_meta['_c0'], '% ')[1].alias('StopName_Meta') )"
   ]
  },
  {
   "cell_type": "code",
   "execution_count": 14,
   "metadata": {},
   "outputs": [
    {
     "name": "stdout",
     "output_type": "stream",
     "text": [
      "+---------+---------+-------------------+\n",
      "|     Long|      Lat|      StopName_Meta|\n",
      "+---------+---------+-------------------+\n",
      "|26.074412|44.446770|          Bucuresti|\n",
      "| 1.811446|50.901549|             Calais|\n",
      "| 1.075329|51.284212|         Canterbury|\n",
      "|-3.543547|50.729172|             Exeter|\n",
      "| 9.733756|46.922368|            Fideris|\n",
      "| 8.571251|50.051219|Frankfurt Flughafen|\n",
      "|18.643803|54.355520|             Gdansk|\n",
      "| 7.389462|47.191804|           Grenchen|\n",
      "|29.019602|40.996348|           Istanbul|\n",
      "| 9.873959|48.577852|  Amstetten (Württ)|\n",
      "| 4.786044|43.921937|            Avignon|\n",
      "| 2.140369|41.378914|          Barcelona|\n",
      "| 7.589551|47.547405|              Basel|\n",
      "| 7.395229|46.937482|       Bern Bümpliz|\n",
      "|-1.899480|52.483627|         Birmingham|\n",
      "| 6.838953|46.949588|          Boudry TN|\n",
      "|17.106466|48.158910|         Bratislava|\n",
      "| 4.335694|50.835376|          Bruxelles|\n",
      "|-2.979650|53.404289|          Liverpool|\n",
      "| 8.500049|47.114619|         Lothenbach|\n",
      "+---------+---------+-------------------+\n",
      "only showing top 20 rows\n",
      "\n"
     ]
    }
   ],
   "source": [
    "df_meta.show()"
   ]
  },
  {
   "cell_type": "code",
   "execution_count": 15,
   "metadata": {},
   "outputs": [
    {
     "name": "stdout",
     "output_type": "stream",
     "text": [
      "211\n"
     ]
    }
   ],
   "source": [
    "print(len(df_meta.filter(df_meta['StopName_Meta'].rlike(\"Lausanne\")).collect()))"
   ]
  },
  {
   "cell_type": "code",
   "execution_count": 16,
   "metadata": {
    "collapsed": true
   },
   "outputs": [],
   "source": [
    "#Again we can see that we have many occurance of Zurich with different coordinate\n",
    "#df_meta.filter(df_meta.StopName_Meta == 'Zürich').show()"
   ]
  },
  {
   "cell_type": "code",
   "execution_count": 17,
   "metadata": {
    "collapsed": true
   },
   "outputs": [],
   "source": [
    "df_meta = df_meta.withColumn(\"Long\", df_meta[\"Long\"].cast(FloatType()))\n",
    "df_meta = df_meta.withColumn(\"Lat\", df_meta[\"Lat\"].cast(FloatType()))"
   ]
  },
  {
   "cell_type": "code",
   "execution_count": 18,
   "metadata": {},
   "outputs": [
    {
     "name": "stdout",
     "output_type": "stream",
     "text": [
      "root\n",
      " |-- Long: float (nullable = true)\n",
      " |-- Lat: float (nullable = true)\n",
      " |-- StopName_Meta: string (nullable = true)\n",
      "\n"
     ]
    }
   ],
   "source": [
    "df_meta.printSchema()"
   ]
  },
  {
   "cell_type": "markdown",
   "metadata": {},
   "source": [
    "We can see that there is many duplicate name with different coordinate. \n",
    "For example we find many time Lausanne, after investigatin we understand that all the subway station where simply Lausanne. We decide to fill that problem using another dataset in order to merge them. \n",
    "\n",
    "We decide to merge the two dataset using coordinate, in order to do this we round coordinate to match them. A round at 3 decimal change the precission by max 135m. For example Google Maps use 6 decimal"
   ]
  },
  {
   "cell_type": "markdown",
   "metadata": {},
   "source": [
    "First we only keep point in/near switzerland we decide to do this by draw a square arount the country and keep point inside.  Here we find the extreme points of switzerland: \n",
    "https://fr.wikipedia.org/wiki/Liste_de_points_extr%C3%AAmes_de_la_Suisse"
   ]
  },
  {
   "cell_type": "code",
   "execution_count": 19,
   "metadata": {},
   "outputs": [
    {
     "data": {
      "text/plain": [
       "25935"
      ]
     },
     "execution_count": 19,
     "metadata": {},
     "output_type": "execute_result"
    }
   ],
   "source": [
    "df_meta.count()"
   ]
  },
  {
   "cell_type": "code",
   "execution_count": 20,
   "metadata": {
    "collapsed": true
   },
   "outputs": [],
   "source": [
    "df_meta = df_meta.filter(df_meta.Lat.between(45.490404, 47.485074))\n",
    "df_meta = df_meta.filter(df_meta.Long.between(5.572263, 10.2931))                       "
   ]
  },
  {
   "cell_type": "code",
   "execution_count": 21,
   "metadata": {},
   "outputs": [
    {
     "data": {
      "text/plain": [
       "22723"
      ]
     },
     "execution_count": 21,
     "metadata": {},
     "output_type": "execute_result"
    }
   ],
   "source": [
    "df_meta.count()"
   ]
  },
  {
   "cell_type": "markdown",
   "metadata": {},
   "source": [
    "Then we see the minimum precision we have in our dataset in order to round all coordinate to this precision"
   ]
  },
  {
   "cell_type": "code",
   "execution_count": 22,
   "metadata": {
    "collapsed": true
   },
   "outputs": [],
   "source": [
    "slen = udf(lambda s: len(str(s).split('.')[1]), IntegerType())"
   ]
  },
  {
   "cell_type": "code",
   "execution_count": 23,
   "metadata": {},
   "outputs": [
    {
     "name": "stdout",
     "output_type": "stream",
     "text": [
      "[Row(min(lat_len)=6)]\n",
      "[Row(min(lon_len)=6)]\n"
     ]
    }
   ],
   "source": [
    "df_meta = df_meta.withColumn(\"lat_len\", slen(df_meta.Lat))\n",
    "df_meta = df_meta.withColumn(\"lon_len\", slen(df_meta.Long))\n",
    "#df_meta = df_meta.withColumn(\"precision\", min(df_meta.lat_len, df_meta.lon_len))\n",
    "print(df_meta.agg({\"lat_len\": \"min\"}).collect())\n",
    "print(df_meta.agg({\"lon_len\": \"min\"}).collect())"
   ]
  },
  {
   "cell_type": "markdown",
   "metadata": {},
   "source": [
    "So we have a precision of 6 digit which is sufficient for our work. See why df_meta.show(5) not always display the same number of digit "
   ]
  },
  {
   "cell_type": "code",
   "execution_count": 24,
   "metadata": {},
   "outputs": [
    {
     "name": "stdout",
     "output_type": "stream",
     "text": [
      "+--------+---------+-------------+-------+-------+\n",
      "|    Long|      Lat|StopName_Meta|lat_len|lon_len|\n",
      "+--------+---------+-------------+-------+-------+\n",
      "|9.733756|46.922367|      Fideris|     15|     15|\n",
      "|7.389462|47.191803|     Grenchen|     15|     15|\n",
      "|7.395229| 46.93748| Bern Bümpliz|     14|     15|\n",
      "|6.838953| 46.94959|    Boudry TN|     15|     15|\n",
      "|8.500049| 47.11462|   Lothenbach|     15|     15|\n",
      "+--------+---------+-------------+-------+-------+\n",
      "only showing top 5 rows\n",
      "\n"
     ]
    }
   ],
   "source": [
    "df_meta.show(5)"
   ]
  },
  {
   "cell_type": "code",
   "execution_count": 25,
   "metadata": {
    "collapsed": true
   },
   "outputs": [],
   "source": [
    "df_meta = df_meta.select('Long', 'Lat', 'StopName_Meta')"
   ]
  },
  {
   "cell_type": "code",
   "execution_count": 26,
   "metadata": {
    "collapsed": true
   },
   "outputs": [],
   "source": [
    "round_6 = udf(lambda s: round(s, 6), DoubleType())"
   ]
  },
  {
   "cell_type": "code",
   "execution_count": 27,
   "metadata": {
    "collapsed": true
   },
   "outputs": [],
   "source": [
    "df_meta = df_meta.withColumn(\"Round_Long\", round_6(df_meta.Long))\n",
    "df_meta = df_meta.withColumn(\"Round_Lat\", round_6(df_meta.Lat))"
   ]
  },
  {
   "cell_type": "code",
   "execution_count": 28,
   "metadata": {
    "scrolled": false
   },
   "outputs": [
    {
     "name": "stdout",
     "output_type": "stream",
     "text": [
      "+--------+---------+-------------+----------+---------+\n",
      "|    Long|      Lat|StopName_Meta|Round_Long|Round_Lat|\n",
      "+--------+---------+-------------+----------+---------+\n",
      "|9.733756|46.922367|      Fideris|  9.733756|46.922367|\n",
      "|7.389462|47.191803|     Grenchen|  7.389462|47.191803|\n",
      "|7.395229| 46.93748| Bern Bümpliz|  7.395229|46.937481|\n",
      "|6.838953| 46.94959|    Boudry TN|  6.838953|46.949589|\n",
      "|8.500049| 47.11462|   Lothenbach|  8.500049| 47.11462|\n",
      "+--------+---------+-------------+----------+---------+\n",
      "only showing top 5 rows\n",
      "\n"
     ]
    }
   ],
   "source": [
    "df_meta.show(5)"
   ]
  },
  {
   "cell_type": "code",
   "execution_count": 29,
   "metadata": {},
   "outputs": [
    {
     "name": "stdout",
     "output_type": "stream",
     "text": [
      "22696\n",
      "22671\n"
     ]
    }
   ],
   "source": [
    "print(df_meta.distinct().count())\n",
    "print(df_meta.select('Round_Lat', 'Round_Long').distinct().count())"
   ]
  },
  {
   "cell_type": "markdown",
   "metadata": {},
   "source": [
    "### Use another dataset to fil missong name"
   ]
  },
  {
   "cell_type": "code",
   "execution_count": 30,
   "metadata": {},
   "outputs": [
    {
     "data": {
      "text/html": [
       "<div>\n",
       "<style>\n",
       "    .dataframe thead tr:only-child th {\n",
       "        text-align: right;\n",
       "    }\n",
       "\n",
       "    .dataframe thead th {\n",
       "        text-align: left;\n",
       "    }\n",
       "\n",
       "    .dataframe tbody tr th {\n",
       "        vertical-align: top;\n",
       "    }\n",
       "</style>\n",
       "<table border=\"1\" class=\"dataframe\">\n",
       "  <thead>\n",
       "    <tr style=\"text-align: right;\">\n",
       "      <th></th>\n",
       "      <th>Lat_stop</th>\n",
       "      <th>Long_stop</th>\n",
       "      <th>StopName</th>\n",
       "    </tr>\n",
       "  </thead>\n",
       "  <tbody>\n",
       "    <tr>\n",
       "      <th>0</th>\n",
       "      <td>45.989901</td>\n",
       "      <td>8.345062</td>\n",
       "      <td>Anzola, chiesa</td>\n",
       "    </tr>\n",
       "    <tr>\n",
       "      <th>1</th>\n",
       "      <td>46.167251</td>\n",
       "      <td>8.345807</td>\n",
       "      <td>Altoggio</td>\n",
       "    </tr>\n",
       "    <tr>\n",
       "      <th>2</th>\n",
       "      <td>46.060122</td>\n",
       "      <td>8.113620</td>\n",
       "      <td>Antronapiana</td>\n",
       "    </tr>\n",
       "    <tr>\n",
       "      <th>3</th>\n",
       "      <td>45.989870</td>\n",
       "      <td>8.345717</td>\n",
       "      <td>Anzola</td>\n",
       "    </tr>\n",
       "    <tr>\n",
       "      <th>4</th>\n",
       "      <td>46.261498</td>\n",
       "      <td>8.319253</td>\n",
       "      <td>Baceno</td>\n",
       "    </tr>\n",
       "  </tbody>\n",
       "</table>\n",
       "</div>"
      ],
      "text/plain": [
       "    Lat_stop  Long_stop        StopName\n",
       "0  45.989901   8.345062  Anzola, chiesa\n",
       "1  46.167251   8.345807        Altoggio\n",
       "2  46.060122   8.113620    Antronapiana\n",
       "3  45.989870   8.345717          Anzola\n",
       "4  46.261498   8.319253          Baceno"
      ]
     },
     "execution_count": 30,
     "metadata": {},
     "output_type": "execute_result"
    }
   ],
   "source": [
    "with open('stops.txt', 'r') as file: \n",
    "    one_splitted = file.readline().strip().split(\",\")\n",
    "    file_lines = [line.strip().split('\"') for line in file.readlines()]\n",
    "    \n",
    "stop_names = [x[3] for x in file_lines]\n",
    "Lat = [float(x[5]) for x in file_lines]\n",
    "Long = [float(x[7]) for x in file_lines]\n",
    "\n",
    "df_stop = pd.DataFrame({\n",
    "        \"StopName\": stop_names, \n",
    "        \"Lat_stop\": Lat, \n",
    "        \"Long_stop\": Long,   \n",
    "    })\n",
    "df_stop.head()"
   ]
  },
  {
   "cell_type": "code",
   "execution_count": 31,
   "metadata": {},
   "outputs": [
    {
     "name": "stdout",
     "output_type": "stream",
     "text": [
      "+----------------+----------------+--------------------+\n",
      "|        Lat_stop|       Long_stop|            StopName|\n",
      "+----------------+----------------+--------------------+\n",
      "|45.9899010293845|8.34506152974108|      Anzola, chiesa|\n",
      "|46.1672513851495|  8.345807131427|            Altoggio|\n",
      "| 46.060121674738|8.11361957990831|        Antronapiana|\n",
      "|45.9898698225697|8.34571729989858|              Anzola|\n",
      "|46.2614983591677|8.31925293162473|              Baceno|\n",
      "|46.0790618438814|8.29927439970313|Beura Cardezza, c...|\n",
      "|46.1222963432243|8.21077237789936|Bognanco, T. Vill...|\n",
      "|46.0656504576122|8.26113193273411|           Boschetto|\n",
      "|46.2978807772998| 8.3626325767009|            Cadarese|\n",
      "|46.1340194356792|8.28619492916453|               Caddo|\n",
      "|46.0916476333918|8.28041876188684|              Calice|\n",
      "|45.9695691829797|8.04585965801774|            Campioli|\n",
      "|46.4091810825782| 8.4117524564434|    Cascate del Toce|\n",
      "|46.0205875326422| 8.2148866619012|         Castiglione|\n",
      "|45.9710364221151|8.06992552448265|       Ceppo Morelli|\n",
      "|46.3530849443472|8.42787721579558|Chiesa (Val Forma...|\n",
      "|46.0967496675661|8.31182386422403| Cosasca di Trontano|\n",
      "|46.0664046229574| 8.2328978833503|              Cresti|\n",
      "|46.1562758593614|8.30343359946918|      Crevoladossola|\n",
      "|46.2141837457637|8.32131905677849|        Crodo, Bagni|\n",
      "+----------------+----------------+--------------------+\n",
      "only showing top 20 rows\n",
      "\n"
     ]
    }
   ],
   "source": [
    "mySchema = StructType([ StructField(\"Lat_stop\", DoubleType(), True)\\\n",
    "                        ,StructField(\"Long_stop\", DoubleType(), True)\\\n",
    "                        ,StructField(\"StopName\", StringType(), True) ])\n",
    "df_stop = spark.createDataFrame(df_stop, mySchema)\n",
    "df_stop.show()"
   ]
  },
  {
   "cell_type": "code",
   "execution_count": 32,
   "metadata": {},
   "outputs": [
    {
     "name": "stdout",
     "output_type": "stream",
     "text": [
      "[Row(min(lat_len)=1)]\n",
      "[Row(min(lon_len)=1)]\n",
      "+----------------+------------+--------------------+-------+-------+\n",
      "|        Lat_stop|   Long_stop|            StopName|lat_len|lon_len|\n",
      "+----------------+------------+--------------------+-------+-------+\n",
      "|             0.0|         0.0|     Isola Superiore|      1|      1|\n",
      "|47.3611471419894|7.3110197892|Develier, St-Chri...|     13|     10|\n",
      "+----------------+------------+--------------------+-------+-------+\n",
      "only showing top 2 rows\n",
      "\n"
     ]
    }
   ],
   "source": [
    "df_stop = df_stop.withColumn(\"lat_len\", slen(df_stop.Lat_stop))\n",
    "df_stop = df_stop.withColumn(\"lon_len\", slen(df_stop.Long_stop))\n",
    "#df_meta = df_meta.withColumn(\"precision\", min(df_meta.lat_len, df_meta.lon_len))\n",
    "print(df_stop.agg({\"lat_len\": \"min\"}).collect())\n",
    "print(df_stop.agg({\"lon_len\": \"min\"}).collect())\n",
    "\n",
    "df_stop.orderBy('lon_len').show(2)"
   ]
  },
  {
   "cell_type": "code",
   "execution_count": 33,
   "metadata": {},
   "outputs": [
    {
     "name": "stdout",
     "output_type": "stream",
     "text": [
      "[Row(Lat_stop=0.0, Long_stop=0.0, StopName='Isola Superiore', lat_len=1, lon_len=1)]\n"
     ]
    }
   ],
   "source": [
    "print(df_stop.filter(df_stop['StopName'].rlike(\"Isola Superiore\")).collect())"
   ]
  },
  {
   "cell_type": "markdown",
   "metadata": {},
   "source": [
    "Here we can see that this can from an error in the dataset, we use google maps to find the good coordinate of Isola Superiore which is: Isola Superiore: 45.901230 - 8.520450"
   ]
  },
  {
   "cell_type": "code",
   "execution_count": 34,
   "metadata": {
    "collapsed": true
   },
   "outputs": [],
   "source": [
    "df_stop = df_stop.withColumn(\"Lat_stop\", \\\n",
    "              when(df_stop[\"StopName\"] == 'Isola Superiore', 45.901230).otherwise(df_stop[\"Lat_stop\"]))\n",
    "df_stop = df_stop.withColumn(\"Long_stop\", \\\n",
    "              when(df_stop[\"StopName\"] == 'Isola Superiore', 8.520450).otherwise(df_stop[\"Long_stop\"]))"
   ]
  },
  {
   "cell_type": "markdown",
   "metadata": {},
   "source": [
    "Now we again round all the coordinate by 6 in order to merge both of the dataframe. "
   ]
  },
  {
   "cell_type": "code",
   "execution_count": 35,
   "metadata": {
    "collapsed": true
   },
   "outputs": [],
   "source": [
    "df_stop = df_stop.withColumn(\"Round_Long\", round_6(df_stop.Long_stop))\n",
    "df_stop = df_stop.withColumn(\"Round_Lat\", round_6(df_stop.Lat_stop))"
   ]
  },
  {
   "cell_type": "markdown",
   "metadata": {},
   "source": [
    "### Merge Dataframe"
   ]
  },
  {
   "cell_type": "code",
   "execution_count": 36,
   "metadata": {
    "collapsed": true
   },
   "outputs": [],
   "source": [
    "Df_meta = df_meta.join(df_stop, on = ['Round_Lat', 'Round_Long'], how='outer') "
   ]
  },
  {
   "cell_type": "code",
   "execution_count": 37,
   "metadata": {},
   "outputs": [
    {
     "name": "stdout",
     "output_type": "stream",
     "text": [
      "188\n",
      "185\n"
     ]
    }
   ],
   "source": [
    "print(df_meta.filter(df_meta['StopName_Meta'].like(\"Lausanne\")).count())\n",
    "print(Df_meta.filter(Df_meta['StopName_Meta'].like(\"Lausanne\") & Df_meta['StopName'].isNull()).count())"
   ]
  },
  {
   "cell_type": "markdown",
   "metadata": {},
   "source": [
    "We can see that for the example of Lausanne we just recover 2 name over about a hundred. \n",
    "After investigation we find the coordidate for particular station in both dataset: \n",
    "<br/>\n",
    "<br/>Lausanne Malley: 46.524212 - 6.603306 -- 46.524211 - 6.603309\n",
    "<br/>Lausanne Bourdonette: 46.523466 - 6.589805 -- 46.523465 - 6.589807\n",
    "<br/>Lausanne Provence: 46.523384 - 6.608102 -- 46.523382 - 6.608106\n",
    "\n",
    "We can see that each time our merge fail for 1 digit\n",
    "\n",
    "We try again with a round at 5 digits whith is still a very good precision"
   ]
  },
  {
   "cell_type": "code",
   "execution_count": 38,
   "metadata": {
    "collapsed": true
   },
   "outputs": [],
   "source": [
    "round_5 = udf(lambda s: round(s, 5), DoubleType())"
   ]
  },
  {
   "cell_type": "code",
   "execution_count": 39,
   "metadata": {
    "collapsed": true
   },
   "outputs": [],
   "source": [
    "df_meta = df_meta.withColumn(\"Round_Long\", round_5(df_meta.Long))\n",
    "df_meta = df_meta.withColumn(\"Round_Lat\", round_5(df_meta.Lat))"
   ]
  },
  {
   "cell_type": "code",
   "execution_count": 40,
   "metadata": {
    "collapsed": true
   },
   "outputs": [],
   "source": [
    "df_stop = df_stop.withColumn(\"Round_Long\", round_5(df_stop.Long_stop))\n",
    "df_stop = df_stop.withColumn(\"Round_Lat\", round_5(df_stop.Lat_stop))"
   ]
  },
  {
   "cell_type": "code",
   "execution_count": 41,
   "metadata": {
    "collapsed": true
   },
   "outputs": [],
   "source": [
    "Df_meta = df_meta.join(df_stop, on = ['Round_Lat', 'Round_Long'], how='outer') "
   ]
  },
  {
   "cell_type": "code",
   "execution_count": 42,
   "metadata": {},
   "outputs": [
    {
     "name": "stdout",
     "output_type": "stream",
     "text": [
      "188\n",
      "65\n"
     ]
    }
   ],
   "source": [
    "print(df_meta.filter(df_meta['StopName_Meta'].like(\"Lausanne\")).count())\n",
    "print(Df_meta.filter(Df_meta['StopName_Meta'].like(\"Lausanne\") & Df_meta['StopName'].isNull()).count())"
   ]
  },
  {
   "cell_type": "markdown",
   "metadata": {},
   "source": [
    "We now achieved a satisfactory result"
   ]
  },
  {
   "cell_type": "code",
   "execution_count": 43,
   "metadata": {},
   "outputs": [
    {
     "name": "stdout",
     "output_type": "stream",
     "text": [
      "root\n",
      " |-- Round_Lat: double (nullable = true)\n",
      " |-- Round_Long: double (nullable = true)\n",
      " |-- Long: float (nullable = true)\n",
      " |-- Lat: float (nullable = true)\n",
      " |-- StopName_Meta: string (nullable = true)\n",
      " |-- Lat_stop: double (nullable = true)\n",
      " |-- Long_stop: double (nullable = true)\n",
      " |-- StopName: string (nullable = true)\n",
      " |-- lat_len: integer (nullable = true)\n",
      " |-- lon_len: integer (nullable = true)\n",
      "\n"
     ]
    }
   ],
   "source": [
    "Df_meta.printSchema()"
   ]
  },
  {
   "cell_type": "code",
   "execution_count": 44,
   "metadata": {},
   "outputs": [
    {
     "name": "stdout",
     "output_type": "stream",
     "text": [
      "+--------+---------+----------------+--------------------+\n",
      "|    Long|      Lat|   StopName_Meta|            StopName|\n",
      "+--------+---------+----------------+--------------------+\n",
      "|    null|     null|            null|Macugnaga, Pestarena|\n",
      "|    null|     null|            null| Lugano, Via Ginevra|\n",
      "|    null|     null|            null|      Gandria, Paese|\n",
      "|    null|     null|            null|               Gozzi|\n",
      "|8.943882|46.034714|        Cureglia|   Cureglia, Rotonda|\n",
      "|    null|     null|            null|        Bogno, Paese|\n",
      "|6.090986| 46.15237|           Perly|                null|\n",
      "|6.044045|46.161507|        Laconnex|Laconnex, Chemin ...|\n",
      "|8.912559|46.179436|         Agarone|                null|\n",
      "|8.699336| 46.18245|        Cresmino|      Cresmino, Case|\n",
      "|6.246757|46.183704|       Annemasse|Annemasse, Généra...|\n",
      "|7.393176| 46.19771|Les Mayens-de-S.|Les Mayens-de-S.,...|\n",
      "|6.167676| 46.20001|          Genève|  Genève, Amandolier|\n",
      "|6.157857|46.203766|          Genève|                null|\n",
      "|    null|     null|            null|Sion, Maragnénaz ...|\n",
      "|7.272802|46.223717|          Vétroz|                null|\n",
      "| 7.52549| 46.28712|          Sierre|Sierre, Maison Rouge|\n",
      "|    null|     null|            null| Versoix, Pont-Céard|\n",
      "| 7.52412|46.290703|          Sierre|      Sierre, Liddes|\n",
      "|7.999969|46.310394|            Brig|                null|\n",
      "+--------+---------+----------------+--------------------+\n",
      "only showing top 20 rows\n",
      "\n"
     ]
    }
   ],
   "source": [
    "Df_meta = Df_meta.select('Long', 'Lat', 'StopName_Meta', 'StopName')\n",
    "Df_meta.show()"
   ]
  },
  {
   "cell_type": "code",
   "execution_count": 45,
   "metadata": {
    "collapsed": true
   },
   "outputs": [],
   "source": [
    "Df_meta = Df_meta.na.drop(subset=[\"Long\", 'Lat'])"
   ]
  },
  {
   "cell_type": "code",
   "execution_count": 46,
   "metadata": {
    "collapsed": true
   },
   "outputs": [],
   "source": [
    "Df_meta = Df_meta.withColumn(\"StopName_Meta\", \\\n",
    "              when(Df_meta[\"StopName\"].isNotNull(), Df_meta[\"StopName\"]).otherwise(Df_meta[\"StopName_Meta\"]))"
   ]
  },
  {
   "cell_type": "code",
   "execution_count": 47,
   "metadata": {
    "collapsed": true
   },
   "outputs": [],
   "source": [
    "Df_meta = Df_meta.select('StopName_Meta', 'Lat', 'Long')"
   ]
  },
  {
   "cell_type": "markdown",
   "metadata": {},
   "source": [
    "### Request Part"
   ]
  },
  {
   "cell_type": "code",
   "execution_count": 48,
   "metadata": {
    "collapsed": true
   },
   "outputs": [],
   "source": [
    "def get_lat_long(name): \n",
    "    tmp = Df_meta.select('Lat', 'Long').filter(Df_meta['StopName_Meta'].like(name)).collect()\n",
    "    if(len(tmp) == 0): \n",
    "        assert \"Problement with the location {}\".format(name)\n",
    "    #print(tmp)\n",
    "    tmp = tmp[0]\n",
    "    print(tmp)\n",
    "    lat = str(tmp).split('=')[1].split(',')[0]\n",
    "    long = str(tmp).split('=')[2].split(')')[0]\n",
    "    return lat, long"
   ]
  },
  {
   "cell_type": "code",
   "execution_count": 49,
   "metadata": {},
   "outputs": [
    {
     "name": "stdout",
     "output_type": "stream",
     "text": [
      "Row(Lat=46.53168869018555, Long=6.628243923187256)\n"
     ]
    },
    {
     "data": {
      "text/plain": [
       "('46.53168869018555', '6.628243923187256')"
      ]
     },
     "execution_count": 49,
     "metadata": {},
     "output_type": "execute_result"
    }
   ],
   "source": [
    "get_lat_long('Lausanne')"
   ]
  },
  {
   "cell_type": "code",
   "execution_count": 50,
   "metadata": {
    "collapsed": true
   },
   "outputs": [],
   "source": [
    "def request(fromPlace, toPlace, departure,Hours, AM_PM,Minutes, Months, Days):\n",
    "    lat_from, long_from = get_lat_long(fromPlace)\n",
    "    lat_to, long_to = get_lat_long(toPlace)\n",
    "    url = 'http://10.90.38.21:8829/otp/routers/default/plan?fromPlace=stop+'\n",
    "    url += '+'.join(fromPlace.split()) +  '+%3A%3A' + str(lat_from) + '%2C' + str(long_from)\n",
    "    url += '&toPlace=stop+' +  '+'.join(toPlace.split()) +  '+%3A%3A' + str(lat_to) + '%2C' + str(long_to)\n",
    "    url += '&time={}%3A{}{}&date={}-{}-2018&mode=TRANSIT%2CWALK&maxWalkDistance=804.672&arriveBy=true&wheelchair=false&locale=en'.format(Hours, Minutes,AM_PM, Months, Days)\n",
    "    print(url)\n",
    "    r = requests.get(url)\n",
    "    print(r)\n",
    "    #print(r.json())\n",
    "    read_json(r.json())\n",
    "    #return r.json()"
   ]
  },
  {
   "cell_type": "code",
   "execution_count": 58,
   "metadata": {
    "collapsed": true
   },
   "outputs": [],
   "source": [
    "def read_json(json_data):\n",
    "    for route in json_data['plan']['itineraries']:\n",
    "        #Here we show the 3 different path\n",
    "        print('-------- Route---------\\n')\n",
    "        #print(route)\n",
    "        for step in route['legs']: \n",
    "            #Here we show all the step of the route   \n",
    "            print('---Step---\\n')\n",
    "            #print(step)\n",
    "            from_ = step['from']['name']\n",
    "            to_ = step['to']['name']\n",
    "            mode = step['mode']\n",
    "            if('tripShortName' in step.keys()):\n",
    "                route_id = step['tripShortName']\n",
    "                #print(step)\n",
    "            end_time = str(step['endTime'])\n",
    "            duration = str(step['duration'])\n",
    "            print('For the travel from {} to {} in {} \\n'.format(from_, to_, mode))\n",
    "            print('The duration is {} and the arrival time is {}\\n'.format(time.strftime(\"%H:%M:%S\", time.gmtime(float(duration))), time.strftime(\"%b %d %Y %H:%M:%S,%M\", time.gmtime(float(end_time[:len(end_time)-3])))))\n",
    "            if('tripShortName' in step.keys()):\n",
    "                print('The route ID is {}'.format(route_id))\n",
    "    "
   ]
  },
  {
   "cell_type": "code",
   "execution_count": 59,
   "metadata": {
    "collapsed": true
   },
   "outputs": [],
   "source": [
    "Days = [i for i in range(1, 32)]\n",
    "Months = [i for i in range(1, 13)]\n",
    "Hours = [i for i in range(0, 13)]\n",
    "AM_PM = ['AM', 'PM']\n",
    "Minutes = [0, 15, 30, 45]"
   ]
  },
  {
   "cell_type": "code",
   "execution_count": 82,
   "metadata": {
    "collapsed": true
   },
   "outputs": [],
   "source": [
    "StopName = Df_meta.select('StopName_Meta').distinct().collect()\n",
    "StopName = [str(x).replace('\"', \"'\") for x in StopName]\n",
    "StopName = [str(x)[19:] for x in StopName]\n",
    "StopName = [str(x).split(\"')\")[0] for x in StopName]\n",
    "StopName = sorted(StopName)"
   ]
  },
  {
   "cell_type": "code",
   "execution_count": 97,
   "metadata": {
    "scrolled": false
   },
   "outputs": [
    {
     "data": {
      "application/vnd.jupyter.widget-view+json": {
       "model_id": "682c580040ef45d0820860be3bc3180d",
       "version_major": 2,
       "version_minor": 0
      },
      "text/plain": [
       "A Jupyter Widget"
      ]
     },
     "metadata": {},
     "output_type": "display_data"
    },
    {
     "data": {
      "text/plain": [
       "<function __main__.request>"
      ]
     },
     "execution_count": 97,
     "metadata": {},
     "output_type": "execute_result"
    }
   ],
   "source": [
    "interact_manual(request, fromPlace=StopName, toPlace= StopName,Months = Months, Days= Days, Hours= Hours, AM_PM = AM_PM,Minutes=Minutes ,departure=True)"
   ]
  },
  {
   "cell_type": "markdown",
   "metadata": {},
   "source": [
    "### Test to see what we have in the data"
   ]
  },
  {
   "cell_type": "markdown",
   "metadata": {},
   "source": [
    "It seems that we don't have data for bus and subway, at least near Lausanne \n",
    "\n",
    "After investigation it's seems that we have data for the LEB in Lausanne. "
   ]
  },
  {
   "cell_type": "code",
   "execution_count": 198,
   "metadata": {},
   "outputs": [
    {
     "name": "stdout",
     "output_type": "stream",
     "text": [
      "root\n",
      " |-- Line_ID: string (nullable = true)\n",
      " |-- Line_ID_spec: string (nullable = true)\n",
      " |-- LineType: string (nullable = true)\n",
      " |-- ProductId: string (nullable = true)\n",
      " |-- LineId: string (nullable = true)\n",
      " |-- LineType: string (nullable = true)\n",
      " |-- TripDate: string (nullable = true)\n",
      " |-- ArrivalTimeScheduled: string (nullable = true)\n",
      " |-- DepartureTimeScheduled: string (nullable = true)\n",
      " |-- StopName: string (nullable = true)\n",
      "\n"
     ]
    }
   ],
   "source": [
    "df_tmp.printSchema()"
   ]
  },
  {
   "cell_type": "code",
   "execution_count": 199,
   "metadata": {},
   "outputs": [
    {
     "name": "stdout",
     "output_type": "stream",
     "text": [
      "+---------+\n",
      "|ProductId|\n",
      "+---------+\n",
      "|      BUS|\n",
      "|     null|\n",
      "|     Tram|\n",
      "|      Zug|\n",
      "|      Bus|\n",
      "|   Schiff|\n",
      "+---------+\n",
      "\n"
     ]
    }
   ],
   "source": [
    "df_tmp.select('ProductId').distinct().show()"
   ]
  },
  {
   "cell_type": "code",
   "execution_count": 221,
   "metadata": {
    "scrolled": false
   },
   "outputs": [
    {
     "name": "stdout",
     "output_type": "stream",
     "text": [
      "+----------+------------+--------+---------+--------+----------+--------------------+----------------------+------------------+\n",
      "|   Line_ID|Line_ID_spec|LineType|ProductId|LineType|  TripDate|ArrivalTimeScheduled|DepartureTimeScheduled|          StopName|\n",
      "+----------+------------+--------+---------+--------+----------+--------------------+----------------------+------------------+\n",
      "|43520-0171|        null|     435|      Bus|     435|14.03.2018|    14.03.2018 14:48|      14.03.2018 14:48|Lausanne, En Marin|\n",
      "+----------+------------+--------+---------+--------+----------+--------------------+----------------------+------------------+\n",
      "only showing top 1 row\n",
      "\n"
     ]
    }
   ],
   "source": [
    "df_tmp.filter(df_tmp['StopName'].rlike(\"Lausanne\") & (col('ProductId') != 'Zug')).show(1)"
   ]
  },
  {
   "cell_type": "code",
   "execution_count": 217,
   "metadata": {},
   "outputs": [
    {
     "name": "stdout",
     "output_type": "stream",
     "text": [
      "+-------+------------+--------+---------+--------+----------+--------------------+----------------------+-------------------+\n",
      "|Line_ID|Line_ID_spec|LineType|ProductId|LineType|  TripDate|ArrivalTimeScheduled|DepartureTimeScheduled|           StopName|\n",
      "+-------+------------+--------+---------+--------+----------+--------------------+----------------------+-------------------+\n",
      "|    108|         001|     ICE|      Zug|     ICE|13.09.2017|                null|      13.09.2017 11:13|          Basel SBB|\n",
      "|    108|         001|     ICE|      Zug|     ICE|13.09.2017|    13.09.2017 11:19|                  null|       Basel Bad Bf|\n",
      "|    108|         000|       R|      Zug|       R|13.09.2017|                null|      13.09.2017 07:41|             Morges|\n",
      "|    108|         000|       R|      Zug|       R|13.09.2017|    13.09.2017 07:42|      13.09.2017 07:42|          La Gottaz|\n",
      "|    108|         000|       R|      Zug|       R|13.09.2017|    13.09.2017 07:43|      13.09.2017 07:43|          Prélionne|\n",
      "|    108|         000|       R|      Zug|       R|13.09.2017|    13.09.2017 07:44|      13.09.2017 07:44|             Chigny|\n",
      "|    108|         000|       R|      Zug|       R|13.09.2017|    13.09.2017 07:46|      13.09.2017 07:46|Vufflens-le-Château|\n",
      "|    108|         000|       R|      Zug|       R|13.09.2017|    13.09.2017 07:47|      13.09.2017 07:47|          Le Marais|\n",
      "|    108|         000|       R|      Zug|       R|13.09.2017|    13.09.2017 07:49|      13.09.2017 07:49|   Bussy-Chardonney|\n",
      "|    108|         000|       R|      Zug|       R|13.09.2017|    13.09.2017 07:52|      13.09.2017 07:52|               Yens|\n",
      "|    108|         000|       R|      Zug|       R|13.09.2017|    13.09.2017 07:54|      13.09.2017 07:54| Chardonney-Château|\n",
      "|    108|         000|       R|      Zug|       R|13.09.2017|    13.09.2017 07:55|      13.09.2017 07:55|          Reverolle|\n",
      "|    108|         000|       R|      Zug|       R|13.09.2017|    13.09.2017 07:58|      13.09.2017 08:00|             Apples|\n",
      "|    108|         000|       R|      Zug|       R|13.09.2017|    13.09.2017 08:03|      13.09.2017 08:03|        Froideville|\n",
      "|    108|         000|       R|      Zug|       R|13.09.2017|    13.09.2017 08:05|      13.09.2017 08:05|            Ballens|\n",
      "|    108|         000|       R|      Zug|       R|13.09.2017|    13.09.2017 08:11|                  null|              Bière|\n",
      "|    108|         000|     S60|      Zug|     S60|13.09.2017|                null|      13.09.2017 06:25|        Ponte Tresa|\n",
      "|    108|         000|     S60|      Zug|     S60|13.09.2017|    13.09.2017 06:27|      13.09.2017 06:27|            Caslano|\n",
      "|    108|         000|     S60|      Zug|     S60|13.09.2017|    13.09.2017 06:30|      13.09.2017 06:30|           Magliaso|\n",
      "|    108|         000|     S60|      Zug|     S60|13.09.2017|    13.09.2017 06:31|      13.09.2017 06:31|     Magliaso Paese|\n",
      "|    108|         000|     S60|      Zug|     S60|13.09.2017|    13.09.2017 06:34|      13.09.2017 06:34|               Agno|\n",
      "|    108|         000|     S60|      Zug|     S60|13.09.2017|    13.09.2017 06:37|      13.09.2017 06:37|            Serocca|\n",
      "|    108|         000|     S60|      Zug|     S60|13.09.2017|    13.09.2017 06:38|      13.09.2017 06:38|            Bioggio|\n",
      "|    108|         000|     S60|      Zug|     S60|13.09.2017|    13.09.2017 06:39|      13.09.2017 06:39|  Bioggio Molinazzo|\n",
      "|    108|         000|     S60|      Zug|     S60|13.09.2017|    13.09.2017 06:45|      13.09.2017 06:45|   Cappella-Agnuzzo|\n",
      "|    108|         000|     S60|      Zug|     S60|13.09.2017|    13.09.2017 06:46|      13.09.2017 06:46|   Sorengo Laghetto|\n",
      "|    108|         000|     S60|      Zug|     S60|13.09.2017|    13.09.2017 06:47|      13.09.2017 06:47|            Sorengo|\n",
      "|    108|         000|     S60|      Zug|     S60|13.09.2017|    13.09.2017 06:50|                  null|         Lugano FLP|\n",
      "|    108|         000|       R|      Zug|       R|13.09.2017|                null|      13.09.2017 06:19|            Bercher|\n",
      "|    108|         000|       R|      Zug|       R|13.09.2017|    13.09.2017 06:22|      13.09.2017 06:22|                Fey|\n",
      "|    108|         000|       R|      Zug|       R|13.09.2017|    13.09.2017 06:25|      13.09.2017 06:25|            Sugnens|\n",
      "|    108|         000|       R|      Zug|       R|13.09.2017|    13.09.2017 06:27|      13.09.2017 06:27|           Grésaley|\n",
      "|    108|         000|       R|      Zug|       R|13.09.2017|    13.09.2017 06:28|      13.09.2017 06:28|          Sur Roche|\n",
      "|    108|         000|       R|      Zug|       R|13.09.2017|    13.09.2017 06:31|      13.09.2017 06:31|          Echallens|\n",
      "|    108|         000|       R|      Zug|       R|13.09.2017|    13.09.2017 06:35|      13.09.2017 06:35|             Assens|\n",
      "|    108|         000|       R|      Zug|       R|13.09.2017|    13.09.2017 06:37|      13.09.2017 06:37|         Etagnières|\n",
      "|    108|         000|       R|      Zug|       R|13.09.2017|    13.09.2017 06:38|      13.09.2017 06:38|          Les Ripes|\n",
      "|    108|         000|       R|      Zug|       R|13.09.2017|    13.09.2017 06:40|      13.09.2017 06:40|           Cheseaux|\n",
      "|    108|         000|       R|      Zug|       R|13.09.2017|    13.09.2017 06:41|      13.09.2017 06:41|        Bel-Air LEB|\n",
      "|    108|         000|       R|      Zug|       R|13.09.2017|    13.09.2017 06:42|      13.09.2017 06:42|    Vernand-Camarès|\n",
      "+-------+------------+--------+---------+--------+----------+--------------------+----------------------+-------------------+\n",
      "only showing top 40 rows\n",
      "\n"
     ]
    }
   ],
   "source": [
    "df_tmp.where((col('ProductId') == 'Zug') & (col('Line_ID') == '108')).show(40)"
   ]
  },
  {
   "cell_type": "code",
   "execution_count": 207,
   "metadata": {},
   "outputs": [
    {
     "name": "stdout",
     "output_type": "stream",
     "text": [
      "+-------------+------------+--------+---------+-----------+--------+----------+--------------------+----------------------+--------------------+\n",
      "|      Line_ID|Line_ID_spec|LineType|ProductId|     LineId|LineType|  TripDate|ArrivalTimeScheduled|DepartureTimeScheduled|            StopName|\n",
      "+-------------+------------+--------+---------+-----------+--------+----------+--------------------+----------------------+--------------------+\n",
      "|80250-02002-1|        null|       2|     Tram|85:3849:002|       2|13.09.2017|                null|      13.09.2017 06:01|Zürich,Kalkbreite...|\n",
      "|80250-02002-1|        null|       2|     Tram|85:3849:002|       2|13.09.2017|    13.09.2017 06:02|      13.09.2017 06:02|   Zürich, Lochergut|\n",
      "|80250-02002-1|        null|       2|     Tram|85:3849:002|       2|13.09.2017|    13.09.2017 06:03|      13.09.2017 06:03|Zürich, Zypressen...|\n",
      "|80250-02002-1|        null|       2|     Tram|85:3849:002|       2|13.09.2017|    13.09.2017 06:04|      13.09.2017 06:04|Zürich, Albisried...|\n",
      "|80250-02002-1|        null|       2|     Tram|85:3849:002|       2|13.09.2017|    13.09.2017 06:05|      13.09.2017 06:06|  Zürich, Letzigrund|\n",
      "|80250-02002-1|        null|       2|     Tram|85:3849:002|       2|13.09.2017|    13.09.2017 06:06|      13.09.2017 06:07|Zürich, Freihofst...|\n",
      "|80250-02002-1|        null|       2|     Tram|85:3849:002|       2|13.09.2017|    13.09.2017 06:08|      13.09.2017 06:08|     Zürich, Kappeli|\n",
      "|80250-02002-1|        null|       2|     Tram|85:3849:002|       2|13.09.2017|    13.09.2017 06:09|      13.09.2017 06:09|Zürich, Grimselst...|\n",
      "|80250-02002-1|        null|       2|     Tram|85:3849:002|       2|13.09.2017|    13.09.2017 06:10|      13.09.2017 06:10| Zürich, Lindenplatz|\n",
      "|80250-02002-1|        null|       2|     Tram|85:3849:002|       2|13.09.2017|    13.09.2017 06:11|      13.09.2017 06:11|Zürich, Bachmatts...|\n",
      "|80250-02002-1|        null|       2|     Tram|85:3849:002|       2|13.09.2017|    13.09.2017 06:12|                  null|     Zürich, Farbhof|\n",
      "|80251-02002-1|        null|       2|     Tram|85:3849:002|       2|13.09.2017|                null|      13.09.2017 06:14|     Zürich, Farbhof|\n",
      "|80251-02002-1|        null|       2|     Tram|85:3849:002|       2|13.09.2017|    13.09.2017 06:15|      13.09.2017 06:15|Zürich, Bachmatts...|\n",
      "|80251-02002-1|        null|       2|     Tram|85:3849:002|       2|13.09.2017|    13.09.2017 06:16|      13.09.2017 06:16| Zürich, Lindenplatz|\n",
      "|80251-02002-1|        null|       2|     Tram|85:3849:002|       2|13.09.2017|    13.09.2017 06:17|      13.09.2017 06:17|Zürich, Grimselst...|\n",
      "|80251-02002-1|        null|       2|     Tram|85:3849:002|       2|13.09.2017|    13.09.2017 06:18|      13.09.2017 06:18|     Zürich, Kappeli|\n",
      "|80251-02002-1|        null|       2|     Tram|85:3849:002|       2|13.09.2017|    13.09.2017 06:19|      13.09.2017 06:20|Zürich, Freihofst...|\n",
      "|80251-02002-1|        null|       2|     Tram|85:3849:002|       2|13.09.2017|    13.09.2017 06:20|      13.09.2017 06:21|  Zürich, Letzigrund|\n",
      "|80251-02002-1|        null|       2|     Tram|85:3849:002|       2|13.09.2017|    13.09.2017 06:22|      13.09.2017 06:22|Zürich, Albisried...|\n",
      "|80251-02002-1|        null|       2|     Tram|85:3849:002|       2|13.09.2017|    13.09.2017 06:23|      13.09.2017 06:23|Zürich, Zypressen...|\n",
      "|80251-02002-1|        null|       2|     Tram|85:3849:002|       2|13.09.2017|    13.09.2017 06:24|      13.09.2017 06:24|   Zürich, Lochergut|\n",
      "|80251-02002-1|        null|       2|     Tram|85:3849:002|       2|13.09.2017|    13.09.2017 06:25|      13.09.2017 06:26|Zürich,Kalkbreite...|\n",
      "|80251-02002-1|        null|       2|     Tram|85:3849:002|       2|13.09.2017|    13.09.2017 06:27|      13.09.2017 06:27|Zürich, Bezirksge...|\n",
      "|80251-02002-1|        null|       2|     Tram|85:3849:002|       2|13.09.2017|    13.09.2017 06:28|      13.09.2017 06:30| Zürich, Stauffacher|\n",
      "|80251-02002-1|        null|       2|     Tram|85:3849:002|       2|13.09.2017|    13.09.2017 06:31|      13.09.2017 06:31| Zürich, Sihlstrasse|\n",
      "|80251-02002-1|        null|       2|     Tram|85:3849:002|       2|13.09.2017|    13.09.2017 06:33|      13.09.2017 06:33| Zürich, Paradeplatz|\n",
      "|80251-02002-1|        null|       2|     Tram|85:3849:002|       2|13.09.2017|    13.09.2017 06:34|      13.09.2017 06:34|Zürich, Börsenstr...|\n",
      "|80251-02002-1|        null|       2|     Tram|85:3849:002|       2|13.09.2017|    13.09.2017 06:35|      13.09.2017 06:35| Zürich, Bürkliplatz|\n",
      "|80251-02002-1|        null|       2|     Tram|85:3849:002|       2|13.09.2017|    13.09.2017 06:37|      13.09.2017 06:37|    Zürich, Bellevue|\n",
      "|80251-02002-1|        null|       2|     Tram|85:3849:002|       2|13.09.2017|    13.09.2017 06:38|      13.09.2017 06:39|   Zürich, Opernhaus|\n",
      "|80251-02002-1|        null|       2|     Tram|85:3849:002|       2|13.09.2017|    13.09.2017 06:39|      13.09.2017 06:40|Zürich, Kreuzstrasse|\n",
      "|80251-02002-1|        null|       2|     Tram|85:3849:002|       2|13.09.2017|    13.09.2017 06:41|      13.09.2017 06:41|Zürich, Feldeggst...|\n",
      "|80251-02002-1|        null|       2|     Tram|85:3849:002|       2|13.09.2017|    13.09.2017 06:42|      13.09.2017 06:42|  Zürich, Höschgasse|\n",
      "|80251-02002-1|        null|       2|     Tram|85:3849:002|       2|13.09.2017|    13.09.2017 06:43|      13.09.2017 06:43|Zürich, Fröhlichs...|\n",
      "|80251-02002-1|        null|       2|     Tram|85:3849:002|       2|13.09.2017|    13.09.2017 06:44|      13.09.2017 06:44|Zürich, Wildbachs...|\n",
      "|80251-02002-1|        null|       2|     Tram|85:3849:002|       2|13.09.2017|    13.09.2017 06:45|                  null|Zürich, Bahnhof T...|\n",
      "|80252-02002-1|        null|       2|     Tram|85:3849:002|       2|13.09.2017|                null|      13.09.2017 06:51|Zürich, Bahnhof T...|\n",
      "|80252-02002-1|        null|       2|     Tram|85:3849:002|       2|13.09.2017|    13.09.2017 06:52|      13.09.2017 06:52|Zürich, Wildbachs...|\n",
      "|80252-02002-1|        null|       2|     Tram|85:3849:002|       2|13.09.2017|    13.09.2017 06:53|      13.09.2017 06:53|Zürich, Fröhlichs...|\n",
      "|80252-02002-1|        null|       2|     Tram|85:3849:002|       2|13.09.2017|    13.09.2017 06:54|      13.09.2017 06:55|  Zürich, Höschgasse|\n",
      "+-------------+------------+--------+---------+-----------+--------+----------+--------------------+----------------------+--------------------+\n",
      "only showing top 40 rows\n",
      "\n"
     ]
    }
   ],
   "source": [
    "df_tmp.where((col('ProductId') == 'Tram')).show(40)"
   ]
  },
  {
   "cell_type": "code",
   "execution_count": 197,
   "metadata": {},
   "outputs": [
    {
     "name": "stdout",
     "output_type": "stream",
     "text": [
      "+-------+------------+--------+---------+------+--------+----------+--------------------+----------------------+--------------------+\n",
      "|Line_ID|Line_ID_spec|LineType|ProductId|LineId|LineType|  TripDate|ArrivalTimeScheduled|DepartureTimeScheduled|            StopName|\n",
      "+-------+------------+--------+---------+------+--------+----------+--------------------+----------------------+--------------------+\n",
      "|    331|         000|       R|      Zug|   331|       R|13.09.2017|                null|      13.09.2017 18:33| Les Ponts-de-Martel|\n",
      "|    331|         000|       R|      Zug|   331|       R|13.09.2017|    13.09.2017 18:34|      13.09.2017 18:34|            Le Stand|\n",
      "|    331|         000|       R|      Zug|   331|       R|13.09.2017|    13.09.2017 18:35|      13.09.2017 18:35|        Petit-Martel|\n",
      "|    331|         000|       R|      Zug|   331|       R|13.09.2017|    13.09.2017 18:36|      13.09.2017 18:36|    Petit-Martel-Est|\n",
      "|    331|         000|       R|      Zug|   331|       R|13.09.2017|    13.09.2017 18:38|      13.09.2017 18:38|        Les Coeudres|\n",
      "|    331|         000|       R|      Zug|   331|       R|13.09.2017|    13.09.2017 18:39|      13.09.2017 18:39|    Les Coeudres-Est|\n",
      "|    331|         000|       R|      Zug|   331|       R|13.09.2017|    13.09.2017 18:42|      13.09.2017 18:42|            La Sagne|\n",
      "|    331|         000|       R|      Zug|   331|       R|13.09.2017|    13.09.2017 18:44|      13.09.2017 18:44|     La Sagne-Eglise|\n",
      "|    331|         000|       R|      Zug|   331|       R|13.09.2017|    13.09.2017 18:47|      13.09.2017 18:47|       La Corbatière|\n",
      "|    331|         000|       R|      Zug|   331|       R|13.09.2017|    13.09.2017 18:50|      13.09.2017 18:50|          Le Reymond|\n",
      "|    331|         000|       R|      Zug|   331|       R|13.09.2017|    13.09.2017 18:53|      13.09.2017 18:53|La Chaux-de-Fonds...|\n",
      "|    331|         000|       R|      Zug|   331|       R|13.09.2017|    13.09.2017 18:56|                  null|   La Chaux-de-Fonds|\n",
      "|    331|         000|       R|      Zug|   331|       R|13.09.2017|                null|      13.09.2017 20:12|              Camedo|\n",
      "|    331|         000|       R|      Zug|   331|       R|13.09.2017|    13.09.2017 20:14|      13.09.2017 20:14|    Borgnone-Cadanza|\n",
      "|    331|         000|       R|      Zug|   331|       R|13.09.2017|    13.09.2017 20:15|      13.09.2017 20:15|          Palagnedra|\n",
      "|    331|         000|       R|      Zug|   331|       R|13.09.2017|    13.09.2017 20:20|      13.09.2017 20:20|            Verdasio|\n",
      "|    331|         000|       R|      Zug|   331|       R|13.09.2017|    13.09.2017 20:25|      13.09.2017 20:25|           Corcapolo|\n",
      "|    331|         000|       R|      Zug|   331|       R|13.09.2017|    13.09.2017 20:30|      13.09.2017 20:32|            Intragna|\n",
      "|    331|         000|       R|      Zug|   331|       R|13.09.2017|    13.09.2017 20:36|      13.09.2017 20:36|          Cavigliano|\n",
      "|    331|         000|       R|      Zug|   331|       R|13.09.2017|    13.09.2017 20:38|      13.09.2017 20:38|             Verscio|\n",
      "|    331|         000|       R|      Zug|   331|       R|13.09.2017|    13.09.2017 20:40|      13.09.2017 20:40|               Tegna|\n",
      "|    331|         000|       R|      Zug|   331|       R|13.09.2017|    13.09.2017 20:43|      13.09.2017 20:43|        Ponte Brolla|\n",
      "|    331|         000|       R|      Zug|   331|       R|13.09.2017|    13.09.2017 20:46|      13.09.2017 20:46|          S. Martino|\n",
      "|    331|         000|       R|      Zug|   331|       R|13.09.2017|    13.09.2017 20:48|      13.09.2017 20:48|  Locarno S. Antonio|\n",
      "|    331|         000|       R|      Zug|   331|       R|13.09.2017|    13.09.2017 20:54|                  null|        Locarno FART|\n",
      "|    331|         000|       R|      Zug|   331|       R|13.09.2017|                null|      13.09.2017 10:55|  St. Urban Ziegelei|\n",
      "|    331|         000|       R|      Zug|   331|       R|13.09.2017|    13.09.2017 10:56|      13.09.2017 10:56|           St. Urban|\n",
      "|    331|         000|       R|      Zug|   331|       R|13.09.2017|    13.09.2017 10:56|      13.09.2017 10:56| Roggwil Buchägerten|\n",
      "|    331|         000|       R|      Zug|   331|       R|13.09.2017|    13.09.2017 10:58|      13.09.2017 10:58|        Roggwil Dorf|\n",
      "|    331|         000|       R|      Zug|   331|       R|13.09.2017|    13.09.2017 10:59|      13.09.2017 10:59|   Roggwil Schmitten|\n",
      "|    331|         000|       R|      Zug|   331|       R|13.09.2017|    13.09.2017 11:00|      13.09.2017 11:00|       Kaltenherberg|\n",
      "|    331|         000|       R|      Zug|   331|       R|13.09.2017|    13.09.2017 11:01|      13.09.2017 11:01|Langenthal Indust...|\n",
      "|    331|         000|       R|      Zug|   331|       R|13.09.2017|    13.09.2017 11:02|      13.09.2017 11:02|  Langenthal Gaswerk|\n",
      "|    331|         000|       R|      Zug|   331|       R|13.09.2017|    13.09.2017 11:07|                  null|          Langenthal|\n",
      "|    331|         000|       R|      Zug|   331|       R|14.09.2017|                null|      14.09.2017 18:33| Les Ponts-de-Martel|\n",
      "|    331|         000|       R|      Zug|   331|       R|14.09.2017|    14.09.2017 18:34|      14.09.2017 18:34|            Le Stand|\n",
      "|    331|         000|       R|      Zug|   331|       R|14.09.2017|    14.09.2017 18:35|      14.09.2017 18:35|        Petit-Martel|\n",
      "|    331|         000|       R|      Zug|   331|       R|14.09.2017|    14.09.2017 18:36|      14.09.2017 18:36|    Petit-Martel-Est|\n",
      "|    331|         000|       R|      Zug|   331|       R|14.09.2017|    14.09.2017 18:38|      14.09.2017 18:38|        Les Coeudres|\n",
      "|    331|         000|       R|      Zug|   331|       R|14.09.2017|    14.09.2017 18:39|      14.09.2017 18:39|    Les Coeudres-Est|\n",
      "+-------+------------+--------+---------+------+--------+----------+--------------------+----------------------+--------------------+\n",
      "only showing top 40 rows\n",
      "\n"
     ]
    }
   ],
   "source": [
    "df_tmp.where(df_tmp.Line_ID == '331').show(40)"
   ]
  },
  {
   "cell_type": "code",
   "execution_count": null,
   "metadata": {
    "collapsed": true
   },
   "outputs": [],
   "source": []
  }
 ],
 "metadata": {
  "kernelspec": {
   "display_name": "Python 3",
   "language": "python",
   "name": "python3"
  },
  "language_info": {
   "codemirror_mode": {
    "name": "ipython",
    "version": 3
   },
   "file_extension": ".py",
   "mimetype": "text/x-python",
   "name": "python",
   "nbconvert_exporter": "python",
   "pygments_lexer": "ipython3",
   "version": "3.6.3"
  }
 },
 "nbformat": 4,
 "nbformat_minor": 2
}
